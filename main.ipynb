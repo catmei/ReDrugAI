{
  "cells": [
    {
      "cell_type": "code",
      "execution_count": 2,
      "metadata": {},
      "outputs": [
        {
          "name": "stdout",
          "output_type": "stream",
          "text": [
            "Note: you may need to restart the kernel to use updated packages.\n"
          ]
        },
        {
          "name": "stderr",
          "output_type": "stream",
          "text": [
            "\n",
            "Usage:   \n",
            "  c:\\Users\\b0220\\Documents\\ReDrugAI\\.venv\\Scripts\\python.exe -m pip install [options] <requirement specifier> [package-index-options] ...\n",
            "  c:\\Users\\b0220\\Documents\\ReDrugAI\\.venv\\Scripts\\python.exe -m pip install [options] -r <requirements file> [package-index-options] ...\n",
            "  c:\\Users\\b0220\\Documents\\ReDrugAI\\.venv\\Scripts\\python.exe -m pip install [options] [-e] <vcs project url> ...\n",
            "  c:\\Users\\b0220\\Documents\\ReDrugAI\\.venv\\Scripts\\python.exe -m pip install [options] [-e] <local project path> ...\n",
            "  c:\\Users\\b0220\\Documents\\ReDrugAI\\.venv\\Scripts\\python.exe -m pip install [options] <archive url/path> ...\n",
            "\n",
            "option --progress-bar: invalid choice: 'pretty' (choose from 'auto', 'on', 'off', 'raw')\n"
          ]
        }
      ],
      "source": [
        "%pip install --upgrade bigframes --progress-bar pretty"
      ]
    },
    {
      "cell_type": "code",
      "execution_count": 6,
      "metadata": {},
      "outputs": [
        {
          "data": {
            "text/html": [
              "Load job cc7bed60-62c4-4084-90f7-15ec54ee8ae5 is DONE. <a target=\"_blank\" href=\"https://console.cloud.google.com/bigquery?project=redrugai&j=bq:US:cc7bed60-62c4-4084-90f7-15ec54ee8ae5&page=queryresults\">Open Job</a>"
            ],
            "text/plain": [
              "<IPython.core.display.HTML object>"
            ]
          },
          "metadata": {},
          "output_type": "display_data"
        },
        {
          "data": {
            "text/html": [
              "Query job 2825af3c-5773-4f82-8676-de145a25bf6e is DONE. 17.2 kB processed. <a target=\"_blank\" href=\"https://console.cloud.google.com/bigquery?project=redrugai&j=bq:US:2825af3c-5773-4f82-8676-de145a25bf6e&page=queryresults\">Open Job</a>"
            ],
            "text/plain": [
              "<IPython.core.display.HTML object>"
            ]
          },
          "metadata": {},
          "output_type": "display_data"
        },
        {
          "name": "stdout",
          "output_type": "stream",
          "text": [
            "             id                   name  \\\n",
            "0  DOID_0050890        synucleinopathy   \n",
            "1    DOID_10113        trypanosomiasis   \n",
            "2    DOID_10718             giardiasis   \n",
            "3    DOID_13406  pulmonary sarcoidosis   \n",
            "4     DOID_1947         trichomoniasis   \n",
            "\n",
            "                                         description  \\\n",
            "0  A neurodegenerative disease that is characteri...   \n",
            "1  Infection with protozoa of the genus trypanosoma.   \n",
            "2  An infection of the small intestine caused by ...   \n",
            "3  Sarcoidosis affecting the lung parenchyma. It ...   \n",
            "4        An infection that is caused by Trichomonas.   \n",
            "\n",
            "                                            synonyms  \n",
            "0  {'hasExactSynonym': {'list': array([{'element'...  \n",
            "1  {'hasExactSynonym': {'list': array([{'element'...  \n",
            "2  {'hasExactSynonym': {'list': array([{'element'...  \n",
            "3  {'hasExactSynonym': {'list': array([{'element'...  \n",
            "4  {'hasExactSynonym': {'list': array([{'element'...  \n",
            "\n",
            "[5 rows x 4 columns]\n"
          ]
        }
      ],
      "source": [
        "import bigframes.pandas as bpd\n",
        "\n",
        "# Set your Google Cloud project ID.\n",
        "# If you are running this in a Google Cloud environment, the project ID is often\n",
        "# automatically detected.\n",
        "bpd.options.bigquery.project = \"redrugai\"\n",
        "bpd.options.bigquery.location = \"US\"\n",
        "\n",
        "# Create a SQL query to select the first 50 rows with only the specified columns.\n",
        "query = \"\"\"\n",
        "SELECT id, name, description, synonyms\n",
        "FROM `bigquery-public-data.open_targets_platform.disease`\n",
        "LIMIT 50\n",
        "\"\"\"\n",
        "\n",
        "# Load data from BigQuery using the query.\n",
        "df = bpd.read_gbq(query)\n",
        "\n",
        "# Display the DataFrame.\n",
        "print(df.head())"
      ]
    },
    {
      "cell_type": "markdown",
      "metadata": {},
      "source": []
    },
    {
      "cell_type": "code",
      "execution_count": 5,
      "metadata": {},
      "outputs": [
        {
          "name": "stdout",
          "output_type": "stream",
          "text": [
            "Total number of rows: 38959\n"
          ]
        }
      ],
      "source": [
        "\n",
        "# Create a SQL query to count the total number of rows in the table.\n",
        "count_query = \"SELECT COUNT(*) as total_rows FROM `bigquery-public-data.open_targets_platform.disease`\"\n",
        "\n",
        "# Load the result from BigQuery using the query.\n",
        "count_df = bpd.read_gbq(count_query)\n",
        "\n",
        "# Display the total number of rows.\n",
        "print(\"Total number of rows:\", count_df['total_rows'][0])\n"
      ]
    }
  ],
  "metadata": {
    "kernelspec": {
      "display_name": ".venv",
      "language": "python",
      "name": "python3"
    },
    "language_info": {
      "codemirror_mode": {
        "name": "ipython",
        "version": 3
      },
      "file_extension": ".py",
      "mimetype": "text/x-python",
      "name": "python",
      "nbconvert_exporter": "python",
      "pygments_lexer": "ipython3",
      "version": "3.12.7"
    }
  },
  "nbformat": 4,
  "nbformat_minor": 2
}
