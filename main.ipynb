{
  "cells": [
    {
      "cell_type": "markdown",
      "metadata": {},
      "source": [
        "# RedrugAI"
      ]
    },
    {
      "cell_type": "markdown",
      "metadata": {},
      "source": [
        "## Introduction\n",
        "\n",
        "This notebook demonstrates **RedrugAI**, a drug repurposing recommendation system built on Google BigQuery and BigQuery AI. The system leverages machine learning embeddings and vector similarity search to identify potential therapeutic applications for existing drugs in new disease contexts.\n",
        "\n",
        "### Dataset\n",
        "- **Open Targets Platform**: A comprehensive biomedical database containing drug-disease associations, molecular targets, and mechanisms of action accessible through BigQuery's public datasets\n",
        "\n",
        "### Key BigQuery AI Features\n",
        " \n",
        "- **ML.GENERATE_EMBEDDING**: Leverages Gemini embedding models to create high-quality semantic vectors for diseases and drug mechanisms of action\n",
        "- **VECTOR_SEARCH**: Utilizes BigQuery's native vector similarity functions for similar diseases.\n",
        "- **bigframes.bigquery.create_vector_index()**: Creates optimized vector indices for efficient similarity search across disease embeddings (38,959 diseases)\n",
        "\n",
        "### Workflow Overview\n",
        "\n",
        "1. **Data Preparation**: Create embedding tables for diseases and drug mechanisms using BigQuery AI\n",
        "2. **Similarity Computation**: Build similarity matrices using vector search capabilities  \n",
        "3. **Recommendation Engine**: Score candidate drugs based on known therapeutic relationships\n",
        "4. **Evaluation**: Validate recommendations against known drug-disease associations\n",
        "\n",
        "This approach enables researchers to discover novel therapeutic opportunities by identifying drugs with similar mechanisms or targets that could be effective for related diseases."
      ]
    },
    {
      "cell_type": "markdown",
      "metadata": {},
      "source": [
        "```mermaid\n",
        "graph TD\n",
        "    subgraph BigQuery Environment\n",
        "        A[BigQuery Public Dataset<br>(Open Targets Platform)] --> B{BigQuery AI<br>(BQML)};\n",
        "        B --> C[Disease Embeddings Table];\n",
        "        B --> D[Drug MoA Embeddings Table];\n",
        "        C -- Vector Index --> E[VECTOR_SEARCH];\n",
        "        D -- Self Join --> F[MoA Similarity Matrix];\n",
        "    end\n",
        "\n",
        "    subgraph Python Application (main.ipynb)\n",
        "        G[User Input: Disease Name] --> H{Recommendation Engine};\n",
        "        E -- Similar Diseases --> H;\n",
        "        F -- MoA Similarities --> H;\n",
        "        A -- Drug & Disease Data --> H;\n",
        "        H -- Calls --> I[Scoring Logic<br>(score.py)];\n",
        "        I --> J[Ranked Drug Recommendations];\n",
        "    end\n",
        "\n",
        "    subgraph Evaluation\n",
        "        K[Known Drug-Disease<br>Associations] --> L{Evaluation Logic<br>(evaluation.py)};\n",
        "        J -- Recommendations to Evaluate --> L;\n",
        "        L --> M[Evaluation Metrics];\n",
        "    end\n",
        "\n",
        "    style BigQuery Environment fill:#e6f7ff,stroke:#333,stroke-width:2px\n",
        "    style Python Application (main.ipynb) fill:#e6ffe6,stroke:#333,stroke-width:2px\n",
        "    style Evaluation fill:#fff0e6,stroke:#333,stroke-width:2px\n",
        "```"
      ]
    },
    {
      "cell_type": "markdown",
      "metadata": {},
      "source": [
        "## Set up\n",
        "### Biquery \n",
        "- Create Biquery project 'redrugai' and dataset 'redrugai_data'\n",
        "- Create remote vertex model for text embeddings\n",
        "   https://cloud.google.com/bigquery/docs/generate-text-embedding#console_1\n",
        "### Python\n",
        "version >= 3.12.7"
      ]
    },
    {
      "cell_type": "code",
      "execution_count": null,
      "metadata": {},
      "outputs": [],
      "source": [
        "%pip install --upgrade bigframes\n",
        "%pip install tqdm"
      ]
    },
    {
      "cell_type": "code",
      "execution_count": 1,
      "metadata": {},
      "outputs": [],
      "source": [
        "import bigframes.bigquery as bbq\n",
        "import bigframes.pandas as bpd\n",
        "region = \"US\"\n",
        "project_id = \"redrugai\"\n",
        "dataset_id = \"redrugai_data\"\n",
        "embedding_model_name = 'embedding005'\n",
        "source_project_id = \"bigquery-public-data\"\n",
        "source_dataset_id = \"open_targets_platform\"\n",
        "# Configure BigQuery client  \n",
        "bpd.options.bigquery.project = project_id\n",
        "bpd.options.bigquery.location = region\n"
      ]
    },
    {
      "cell_type": "markdown",
      "metadata": {},
      "source": [
        "## Prepare Tables\n",
        "- Only need to run once\n",
        "- Purpose: Pre-build embedding tables and similarity matrices for efficient vector search on public datasets"
      ]
    },
    {
      "cell_type": "markdown",
      "metadata": {},
      "source": [
        "### Embedding Table\n",
        "1. disease_embedding table\n",
        "    - Source Table: disease.\n",
        "    - Embedding(`ML.GENERATE_EMBEDDING`) Column: name, synonyms, description \n",
        "    - Build index to speed up search: `bigframes.bigquery.create_vector_index()`\n",
        "2. drug_mechanism_of_action_embedding table\n",
        "    - Target Table: drug_mechanism_of_action. \n",
        "    - Convert Column: 'MoA'"
      ]
    },
    {
      "cell_type": "code",
      "execution_count": 9,
      "metadata": {},
      "outputs": [
        {
          "name": "stdout",
          "output_type": "stream",
          "text": [
            "Disease embeddings table created successfully!\n"
          ]
        }
      ],
      "source": [
        "# Create disease embeddings table\n",
        "source_table_name = \"disease\"\n",
        "embedding_table_name = \"disease_embedding\"\n",
        "\n",
        "# Create table with disease embeddings by concatenating name, synonyms, and description\n",
        "query_create_embeddings = f\"\"\"\n",
        "CREATE OR REPLACE TABLE `{project_id}.{dataset_id}.{embedding_table_name}` AS\n",
        "WITH source_table AS (\n",
        "  SELECT\n",
        "    d.id,\n",
        "    d.name,\n",
        "    d.synonyms,\n",
        "    CONCAT(\n",
        "      'Name: ', d.name,\n",
        "      IFNULL(CONCAT('. Synonyms: ', STRING_AGG(DISTINCT syn.element, ', ')), ''),\n",
        "      IFNULL(CONCAT('. Description: ', d.description), '')\n",
        "    ) AS content\n",
        "  FROM `{source_project_id}.{source_dataset_id}.{source_table_name}` AS d\n",
        "  LEFT JOIN UNNEST(ARRAY_CONCAT(\n",
        "    IFNULL(d.synonyms.hasExactSynonym.list, []),\n",
        "    IFNULL(d.synonyms.hasRelatedSynonym.list, []),\n",
        "    IFNULL(d.synonyms.hasNarrowSynonym.list, []),\n",
        "    IFNULL(d.synonyms.hasBroadSynonym.list, [])\n",
        "  )) AS syn\n",
        "  GROUP BY d.id, d.name, d.description, d.synonyms\n",
        ")\n",
        "SELECT\n",
        "  s.id,\n",
        "  s.name,\n",
        "  s.synonyms,\n",
        "  e.ml_generate_embedding_result AS embedding\n",
        "FROM\n",
        "  source_table s\n",
        "JOIN\n",
        "  ML.GENERATE_EMBEDDING(\n",
        "    MODEL `{project_id}.{dataset_id}.{embedding_model_name}`,\n",
        "    (SELECT id, content FROM source_table),\n",
        "    STRUCT(TRUE AS flatten_json_output)\n",
        "  ) e\n",
        "ON s.id = e.id\n",
        "\"\"\"\n",
        "\n",
        "# Execute the query to create the embeddings table\n",
        "bpd.read_gbq(query_create_embeddings)\n",
        "print(\"Disease embeddings table created successfully!\")\n"
      ]
    },
    {
      "cell_type": "code",
      "execution_count": 10,
      "metadata": {},
      "outputs": [
        {
          "name": "stdout",
          "output_type": "stream",
          "text": [
            "redrugai.redrugai_data.disease_embedding\n",
            "Vector index created successfully!\n"
          ]
        }
      ],
      "source": [
        "# Create a vector index for efficient searching on the disease embeddings table\n",
        "# Note: BigQuery requires minimum 5000 rows for IVF index type\n",
        "# If table has fewer rows, use VECTOR_SEARCH function directly without index\n",
        "full_table_id = f\"{project_id}.{dataset_id}.{embedding_table_name}\"\n",
        "print(full_table_id)\n",
        "\n",
        "try:\n",
        "    bbq.create_vector_index(\n",
        "        table_id=full_table_id,\n",
        "        column_name='embedding',\n",
        "    )\n",
        "    print(\"Vector index created successfully!\")\n",
        "except Exception as e:\n",
        "    print(f\"Note: Vector index creation failed - {str(e)}\")\n",
        "    print(\"This is expected for tables with < 5000 rows. VECTOR_SEARCH will work without index.\")\n"
      ]
    },
    {
      "cell_type": "code",
      "execution_count": null,
      "metadata": {},
      "outputs": [
        {
          "name": "stdout",
          "output_type": "stream",
          "text": [
            "Mechanism of action embeddings table created successfully!\n"
          ]
        }
      ],
      "source": [
        "# Create unique mechanism of action (MoA) embedding table\n",
        "source_table_name = \"drug_mechanism_of_action\"\n",
        "embedding_table_name = \"drug_moa_embedding\"\n",
        "\n",
        "# Build embeddings for unique MoA values\n",
        "query_create_moa_embeddings = f\"\"\"\n",
        "CREATE OR REPLACE TABLE `{project_id}.{dataset_id}.{embedding_table_name}` AS\n",
        "WITH unique_moa AS (\n",
        "  SELECT DISTINCT TRIM(mechanismOfAction) AS content\n",
        "  FROM `{source_project_id}.{source_dataset_id}.{source_table_name}`\n",
        "  WHERE mechanismOfAction IS NOT NULL \n",
        "    AND TRIM(mechanismOfAction) != ''\n",
        ")\n",
        "SELECT\n",
        "  e.content AS mechanismOfAction,\n",
        "  e.ml_generate_embedding_result AS embedding\n",
        "FROM ML.GENERATE_EMBEDDING(\n",
        "  MODEL `{project_id}.{dataset_id}.{embedding_model_name}`,\n",
        "  TABLE unique_moa\n",
        ") AS e\n",
        "ORDER BY mechanismOfAction\n",
        "\"\"\"\n",
        "\n",
        "# Execute the query to create the MoA embeddings table\n",
        "bpd.read_gbq(query_create_moa_embeddings)\n",
        "print(\"Mechanism of action embeddings table created successfully!\")\n"
      ]
    },
    {
      "cell_type": "markdown",
      "metadata": {},
      "source": [
        "### MoA Similarity Matrix\n",
        "Create a comprehensive similarity table for all mechanism of action (MoA) pairs using the drug_moa_embedding table. This matrix will be used for drug recommendation scoring by comparing the similarity between different mechanisms of action."
      ]
    },
    {
      "cell_type": "code",
      "execution_count": 11,
      "metadata": {},
      "outputs": [
        {
          "name": "stdout",
          "output_type": "stream",
          "text": [
            "Mechanism of action pair similarity matrix table created successfully!\n"
          ]
        }
      ],
      "source": [
        "# Build mechanism of action (MoA) pair similarity matrix table\n",
        "moa_embedding_table_name = \"drug_moa_embedding\"\n",
        "similarity_table_name = f\"{moa_embedding_table_name}_similarity\"\n",
        "\n",
        "# Create comprehensive MoA pair similarity matrix for drug recommendation scoring\n",
        "query_create_moa_similarity = f\"\"\"\n",
        "CREATE OR REPLACE TABLE `{project_id}.{dataset_id}.{similarity_table_name}` AS\n",
        "WITH moa_pairs AS (\n",
        "  SELECT \n",
        "    a.mechanismOfAction AS moa_a,\n",
        "    b.mechanismOfAction AS moa_b,\n",
        "    a.embedding AS embedding_a,\n",
        "    b.embedding AS embedding_b\n",
        "  FROM `{project_id}.{dataset_id}.{moa_embedding_table_name}` a\n",
        "  CROSS JOIN `{project_id}.{dataset_id}.{moa_embedding_table_name}` b\n",
        ")\n",
        "SELECT\n",
        "  moa_a,\n",
        "  moa_b,\n",
        "  1 - ML.DISTANCE(embedding_a, embedding_b, 'COSINE') AS cosine_similarity\n",
        "FROM moa_pairs\n",
        "ORDER BY cosine_similarity DESC\n",
        "\"\"\"\n",
        "\n",
        "# Execute the query to create the MoA similarity table\n",
        "bpd.read_gbq(query_create_moa_similarity)\n",
        "print(\"Mechanism of action pair similarity matrix table created successfully!\")\n"
      ]
    },
    {
      "cell_type": "markdown",
      "metadata": {},
      "source": [
        "### MoA Flat Table\n",
        "Create a flattened table that maps each drug to its mechanisms of action and target proteins. This table simplifies the complex many-to-many relationships in the original data by creating one row per drug-MoA-target combination, making it easier to analyze drug similarities based on their biological mechanisms.\n"
      ]
    },
    {
      "cell_type": "code",
      "execution_count": 19,
      "metadata": {},
      "outputs": [
        {
          "name": "stdout",
          "output_type": "stream",
          "text": [
            "Drug MoA flat table created successfully!\n"
          ]
        }
      ],
      "source": [
        "# Create a flattened table that maps drugs to their mechanisms of action and targets\n",
        "flat_table_name = \"drug_moa_flat\"\n",
        "\n",
        "query_create_moa_flat = f\"\"\"\n",
        "CREATE OR REPLACE TABLE `{project_id}.{dataset_id}.{flat_table_name}` AS\n",
        "WITH\n",
        "-- A) Drugs with a join key that prefers the parent when present\n",
        "dm AS (\n",
        "  SELECT\n",
        "    id                         AS molecule_id,\n",
        "    name                       AS drug_name,\n",
        "    COALESCE(parentId, id)     AS join_id\n",
        "  FROM bigquery-public-data.open_targets_platform.drug_molecule\n",
        "),\n",
        "-- B) Flatten MoA → target pairs from the MoA table\n",
        "moa_flat AS (\n",
        "  SELECT\n",
        "    chembl.element AS moa_molecule_id,\n",
        "    COALESCE(NULLIF(TRIM(dmoa.mechanismOfAction), ''),\n",
        "             NULLIF(TRIM(dmoa.actionType), '')) AS moa,\n",
        "    CAST(tgt.element AS STRING) AS target_id\n",
        "  FROM bigquery-public-data.open_targets_platform.drug_mechanism_of_action AS dmoa\n",
        "  CROSS JOIN UNNEST(dmoa.chemblIds.list) AS chembl\n",
        "  LEFT JOIN UNNEST(dmoa.targets.list) AS tgt ON TRUE\n",
        "),\n",
        "-- C) Map MoA rows to the parent when available\n",
        "moa_parentaware AS (\n",
        "  SELECT\n",
        "    COALESCE(dm2.parentId, dm2.id, mf.moa_molecule_id) AS join_id,\n",
        "    mf.moa_molecule_id,\n",
        "    mf.moa,\n",
        "    mf.target_id\n",
        "  FROM moa_flat AS mf\n",
        "  LEFT JOIN bigquery-public-data.open_targets_platform.drug_molecule dm2\n",
        "    ON dm2.id = mf.moa_molecule_id\n",
        ")\n",
        "-- D) Final\n",
        "SELECT\n",
        "  dm.molecule_id,\n",
        "  dm.drug_name,\n",
        "  mpa.moa,\n",
        "  mpa.target_id\n",
        "FROM dm\n",
        "LEFT JOIN moa_parentaware mpa\n",
        "  USING (join_id)\n",
        "QUALIFY ROW_NUMBER() OVER (\n",
        "  PARTITION BY dm.molecule_id, mpa.moa, mpa.target_id\n",
        ") = 1\n",
        "\"\"\"\n",
        "\n",
        "# Execute the query to create the flattened MoA table\n",
        "bpd.read_gbq(query_create_moa_flat)\n",
        "print(\"Drug MoA flat table created successfully!\")"
      ]
    },
    {
      "cell_type": "markdown",
      "metadata": {},
      "source": [
        "## Vector Search"
      ]
    },
    {
      "cell_type": "markdown",
      "metadata": {},
      "source": [
        "### First layer\n",
        "1. Generate an embedding(`ML.GENERATE_EMBEDDING`) for the query disease name \n",
        "2. Search(`VECTOR_SEARCH`) for diseases with similar embeddings in our pre-computed disease embedding table \n",
        "3. Filter results by cosine distance threshold to ensure semantic relevance\n",
        "4. Return a ranked list of similar diseases that could share therapeutic targets\n"
      ]
    },
    {
      "cell_type": "code",
      "execution_count": 2,
      "metadata": {},
      "outputs": [
        {
          "name": "stdout",
          "output_type": "stream",
          "text": [
            "Similar diseases to 'trypanosomiasis' (distance < 0.3):\n",
            "Found 3 similar diseases\n"
          ]
        },
        {
          "data": {
            "text/html": [
              "Query job 51360f51-6a14-4983-846b-512daa621316 is DONE. 0 Bytes processed. <a target=\"_blank\" href=\"https://console.cloud.google.com/bigquery?project=redrugai&j=bq:US:51360f51-6a14-4983-846b-512daa621316&page=queryresults\">Open Job</a>"
            ],
            "text/plain": [
              "<IPython.core.display.HTML object>"
            ]
          },
          "metadata": {},
          "output_type": "display_data"
        },
        {
          "name": "stdout",
          "output_type": "stream",
          "text": [
            "              id                   disease_name  distance\n",
            "0    EFO_0008559       American trypanosomiasis  0.213539\n",
            "1    EFO_0005225  human african trypanosomiasis  0.224497\n",
            "2  MONDO_0001444                 Chagas disease  0.277343\n",
            "\n",
            "[3 rows x 3 columns]\n"
          ]
        }
      ],
      "source": [
        "# Configuration for vector search\n",
        "base_table_name = \"disease_embedding\"\n",
        "text_embedding_model_name = \"embedding005\"\n",
        "query_text = 'trypanosomiasis'\n",
        "distance_threshold = 0.3\n",
        "\n",
        "# Construct vector search query to find similar diseases\n",
        "vector_search_query = f\"\"\"\n",
        "WITH query_table AS (\n",
        "    SELECT *\n",
        "    FROM ML.GENERATE_EMBEDDING(\n",
        "        MODEL `{project_id}.{dataset_id}.{text_embedding_model_name}`,\n",
        "        (SELECT '{query_text}' AS content)\n",
        "    )\n",
        ")\n",
        "SELECT\n",
        "    base.id,\n",
        "    base.name AS disease_name,\n",
        "    distance\n",
        "FROM\n",
        "    VECTOR_SEARCH(\n",
        "        TABLE `{project_id}.{dataset_id}.{base_table_name}`,\n",
        "        'embedding',\n",
        "        (SELECT * FROM query_table),\n",
        "        'ml_generate_embedding_result',\n",
        "        top_k => 100,\n",
        "        distance_type => 'COSINE'\n",
        "    )\n",
        "WHERE distance < {distance_threshold}\n",
        "ORDER BY distance ASC\n",
        "\"\"\"\n",
        "\n",
        "# Execute the vector search query\n",
        "similar_disease_df = bpd.read_gbq(vector_search_query)\n",
        "\n",
        "# Exclude exact matches and filter results\n",
        "similar_disease_df = similar_disease_df[\n",
        "    similar_disease_df['disease_name'].str.lower() != query_text.lower()\n",
        "].reset_index(drop=True)\n",
        "\n",
        "# Display the results\n",
        "print(f\"Similar diseases to '{query_text}' (distance < {distance_threshold}):\")\n",
        "print(f\"Found {len(similar_disease_df)} similar diseases\")\n",
        "print(similar_disease_df.head(10))"
      ]
    },
    {
      "cell_type": "markdown",
      "metadata": {},
      "source": [
        "### Second Layer\n",
        "1. Finding diseases similar to the query disease using vector embeddings\n",
        "2. Collecting known drugs for these similar diseases\n",
        "3. Computing drug similarity scores based on mechanism of action (MOA)\n",
        "4. Ranking and filtering drug candidates for the target disease\n"
      ]
    },
    {
      "cell_type": "code",
      "execution_count": 3,
      "metadata": {},
      "outputs": [
        {
          "name": "stdout",
          "output_type": "stream",
          "text": [
            "Loading datasets...\n",
            "Executing BigQuery operations...\n",
            "Loaded 27499 drugs, 253442 disease-drug relationships, and 2812329 MOA similarity pairs\n"
          ]
        }
      ],
      "source": [
        "# Load required datasets for drug recommendation\n",
        "print(\"Loading datasets...\")\n",
        "\n",
        "# Query to get disease-drug relationships with mechanism of action and targets\n",
        "query_disease_drugs = \"\"\"\n",
        "SELECT \n",
        "    kd.diseaseId,\n",
        "    d.name AS disease_name,\n",
        "    kd.drugId,\n",
        "    kd.mechanismOfAction AS moa,\n",
        "    kd.targetId AS target_id\n",
        "FROM\n",
        "    `bigquery-public-data.open_targets_platform.known_drug` kd\n",
        "INNER JOIN\n",
        "    `bigquery-public-data.open_targets_platform.disease` d\n",
        "ON\n",
        "    d.id = kd.diseaseId\n",
        "\"\"\"\n",
        "\n",
        "# Query to get comprehensive drug information with MOA details\n",
        "query_all_drugs = \"\"\"\n",
        "SELECT *\n",
        "FROM `redrugai.redrugai_data.drug_moa_flat`\n",
        "\"\"\"\n",
        "\n",
        "# Query to get pre-computed MOA similarity scores\n",
        "query_moa_pair_similarity = \"\"\"\n",
        "SELECT *\n",
        "FROM `redrugai.redrugai_data.drug_moa_embedding_similarity`\n",
        "\"\"\"\n",
        "\n",
        "# Execute queries and load data\n",
        "print(\"Executing BigQuery operations...\")\n",
        "all_drugs_df = bpd.read_gbq(query_all_drugs)\n",
        "disease_drugs_df = bpd.read_gbq(query_disease_drugs)\n",
        "moa_pair_sim_df = bpd.read_gbq(query_moa_pair_similarity)\n",
        "\n",
        "print(f\"Loaded {len(all_drugs_df)} drugs, {len(disease_drugs_df)} disease-drug relationships, and {len(moa_pair_sim_df)} MOA similarity pairs\")"
      ]
    },
    {
      "cell_type": "code",
      "execution_count": 5,
      "metadata": {},
      "outputs": [],
      "source": [
        "from score import *\n",
        "\n",
        "# Execute the recommendation system for the queried disease\n",
        "result = recommend_for_disease_with_similars(\n",
        "    disease_name=query_text,\n",
        "    similar_disease_names=similar_disease_df['disease_name'].to_list(),\n",
        "    disease_drugs_df=disease_drugs_df,\n",
        "    all_drugs_df=all_drugs_df,\n",
        "    moa_pair_sim_df=moa_pair_sim_df,\n",
        "    top_overall=10,\n",
        "    top_similar=5,\n",
        "    similar_weight=0.5,\n",
        "    evaluation_mode=False\n",
        ")"
      ]
    },
    {
      "cell_type": "code",
      "execution_count": 9,
      "metadata": {},
      "outputs": [
        {
          "name": "stdout",
          "output_type": "stream",
          "text": [
            "\n",
            "🔍 Disease Analysis Results for: trypanosomiasis\n",
            "============================================================\n",
            "\n",
            "💊 Known Drugs (5 found):\n",
            "  1. CHEMBL265502\n",
            "  2. CHEMBL413376\n",
            "  3. CHEMBL52440\n",
            "  4. CHEMBL655\n",
            "  5. CHEMBL830\n",
            "\n",
            "🎯 Overall Recommendations (10 drugs):\n",
            "  1. EFLORNITHINE HYDROCHLORIDE (Score: 6.401)\n",
            "  2. DEXTROMETHORPHAN POLISTIREX (Score: 5.278)\n",
            "  3. DEXTROMETHORPHAN HYDROBROMIDE (Score: 5.278)\n",
            "  4. CARBETAPENTANE CITRATE (Score: 5.264)\n",
            "  5. CARBETAPENTANE (Score: 5.264)\n",
            "  6. DIAZEPAM (Score: 3.009)\n",
            "  7. MIDAZOLAM HYDROCHLORIDE (Score: 3.009)\n",
            "  8. QUAZEPAM (Score: 3.009)\n",
            "  9. CHLORDIAZEPOXIDE HYDROCHLORIDE (Score: 3.009)\n",
            "  10. METHYPRYLON (Score: 3.009)\n",
            "\n",
            "🔗 Similar Disease Recommendations (1 drugs):\n",
            "  1. ATORVASTATIN (Score: 0.604)\n"
          ]
        }
      ],
      "source": [
        "# Display recommendation results\n",
        "print(f\"\\n🔍 Disease Analysis Results for: {query_text}\")\n",
        "print(\"=\" * 60)\n",
        "\n",
        "print(f\"\\n💊 Known Drugs ({len(result['known_drugs'])} found):\")\n",
        "if not result[\"known_drugs\"].empty:\n",
        "    for idx, row in result[\"known_drugs\"].iterrows():\n",
        "        print(f\"  {idx+1}. {row.get('drug_name', row['drugId'])}\")\n",
        "else:\n",
        "    print(\"  No known drugs found for this disease\")\n",
        "\n",
        "print(f\"\\n🎯 Overall Recommendations ({len(result['overall_recommendations'])} drugs):\")\n",
        "if not result[\"overall_recommendations\"].empty:\n",
        "    for idx, row in result[\"overall_recommendations\"].iterrows():\n",
        "        score = row['final_score']\n",
        "        drug_name = row.get('drug_name', row['drugId'])\n",
        "        print(f\"  {idx+1}. {drug_name} (Score: {score:.3f})\")\n",
        "else:\n",
        "    print(\"  No recommendations available\")\n",
        "\n",
        "print(f\"\\n🔗 Similar Disease Recommendations ({len(result['similar_recommendations'])} drugs):\")\n",
        "if not result[\"similar_recommendations\"].empty:\n",
        "    for idx, row in result[\"similar_recommendations\"].iterrows():\n",
        "        score = row['score_against_primary']\n",
        "        drug_name = row.get('drug_name', row['drugId'])\n",
        "        print(f\"  {idx+1}. {drug_name} (Score: {score:.3f})\")\n",
        "else:\n",
        "    print(\"  No similar disease recommendations available\")\n"
      ]
    },
    {
      "cell_type": "markdown",
      "metadata": {},
      "source": [
        "## Performance Evaluation\n",
        "\n",
        "**Important Caveat**: This recommendation system is designed to find potential drugs which cannot be validated as useful in real life without extensive clinical testing. These metrics are simply to evaluate if our approach can generate results that overlap with existing known drugs - this is not a strict academic evaluation method. If we find overlap, it shows to some level that our method has potential for drug discovery.\n",
        "\n",
        "1. Randomly Sample 100 Disease from disease table\n",
        "2. Get the recommendation drugs from similar drugs\n",
        "3. Measure the overlay level with the following metrics:\n",
        "    - **Precision**: How many recommendation drugs are in answer group (already known drugs)\n",
        "    - **Recall**: How many answer group drugs are in recommendation group\n",
        "    - **F1 Score**: Harmonic mean of precision and recall\n",
        "    - **Overlap Count**: Total number of overlapping drugs between recommendations and known drugs"
      ]
    },
    {
      "cell_type": "code",
      "execution_count": 11,
      "metadata": {},
      "outputs": [],
      "source": [
        "from evaluation import run_disease_evaluation, get_random_diseases_sample\n",
        "import pandas as pd\n",
        "import time\n",
        "from tqdm import tqdm\n"
      ]
    },
    {
      "cell_type": "code",
      "execution_count": 12,
      "metadata": {},
      "outputs": [
        {
          "name": "stdout",
          "output_type": "stream",
          "text": [
            "Sampling 100 random diseases...\n",
            "Sampled 100 diseases:\n"
          ]
        },
        {
          "data": {
            "text/html": [
              "Query job a0660893-1c7b-4dea-82b6-d3dda4c326e1 is DONE. 0 Bytes processed. <a target=\"_blank\" href=\"https://console.cloud.google.com/bigquery?project=redrugai&j=bq:US:a0660893-1c7b-4dea-82b6-d3dda4c326e1&page=queryresults\">Open Job</a>"
            ],
            "text/plain": [
              "<IPython.core.display.HTML object>"
            ]
          },
          "metadata": {},
          "output_type": "display_data"
        },
        {
          "name": "stdout",
          "output_type": "stream",
          "text": [
            "                    disease_name  known_drug_count\n",
            "0              Uterine leiomyoma                 2\n",
            "1  idiopathic pulmonary fibrosis                62\n",
            "2       fetal growth restriction                 6\n",
            "3                    Cholangitis                 1\n",
            "4               Immunodeficiency                 3\n",
            "\n",
            "[5 rows x 2 columns]\n"
          ]
        }
      ],
      "source": [
        "# Sample 100 random diseases with at least 1 known drug\n",
        "print(\"Sampling 100 random diseases...\")\n",
        "random_diseases_df = get_random_diseases_sample(\n",
        "    n_samples=100,\n",
        "    project_id=project_id,\n",
        "    source_project_id=source_project_id,\n",
        "    source_dataset_id=source_dataset_id,\n",
        "    min_known_drugs=1\n",
        ")\n",
        "\n",
        "print(f\"Sampled {len(random_diseases_df)} diseases:\")\n",
        "print(random_diseases_df.head())\n"
      ]
    },
    {
      "cell_type": "code",
      "execution_count": null,
      "metadata": {},
      "outputs": [
        {
          "name": "stdout",
          "output_type": "stream",
          "text": [
            "Running evaluation experiments...\n"
          ]
        },
        {
          "name": "stderr",
          "output_type": "stream",
          "text": [
            "Evaluating diseases:   0%|          | 0/100 [00:00<?, ?it/s]"
          ]
        },
        {
          "name": "stdout",
          "output_type": "stream",
          "text": [
            "\n",
            "Evaluating disease 1/100: Uterine leiomyoma\n",
            "  Success: 2 known drugs, 10 overall recs, 5 similar recs\n",
            "  Overall: P=0.000, R=0.000, F1=0.000\n",
            "  Similar: P=0.200, R=0.500, F1=0.286\n",
            "  Combined: P=0.067, R=0.500, F1=0.118\n"
          ]
        },
        {
          "name": "stderr",
          "output_type": "stream",
          "text": [
            "Evaluating diseases:   1%|          | 1/100 [01:00<1:40:05, 60.66s/it]"
          ]
        },
        {
          "name": "stdout",
          "output_type": "stream",
          "text": [
            "\n",
            "Evaluating disease 2/100: idiopathic pulmonary fibrosis\n",
            "  Success: 62 known drugs, 10 overall recs, 5 similar recs\n",
            "  Overall: P=0.000, R=0.000, F1=0.000\n",
            "  Similar: P=1.000, R=0.081, F1=0.149\n",
            "  Combined: P=0.333, R=0.081, F1=0.130\n"
          ]
        },
        {
          "name": "stderr",
          "output_type": "stream",
          "text": [
            "Evaluating diseases:   2%|▏         | 2/100 [02:00<1:37:51, 59.91s/it]"
          ]
        },
        {
          "name": "stdout",
          "output_type": "stream",
          "text": [
            "\n",
            "Evaluating disease 3/100: fetal growth restriction\n"
          ]
        },
        {
          "name": "stderr",
          "output_type": "stream",
          "text": [
            "c:\\Users\\b0220\\Documents\\ReDrugAI\\score.py:300: FutureWarning: Downcasting object dtype arrays on .fillna, .ffill, .bfill is deprecated and will change in a future version. Call result.infer_objects(copy=False) instead. To opt-in to the future behavior, set `pd.set_option('future.no_silent_downcasting', True)`\n",
            "  \n"
          ]
        },
        {
          "name": "stdout",
          "output_type": "stream",
          "text": [
            "  Success: 6 known drugs, 10 overall recs, 0 similar recs\n",
            "  Overall: P=0.000, R=0.000, F1=0.000\n",
            "  Similar: P=0.000, R=0.000, F1=0.000\n",
            "  Combined: P=0.000, R=0.000, F1=0.000\n"
          ]
        },
        {
          "name": "stderr",
          "output_type": "stream",
          "text": [
            "Evaluating diseases:   3%|▎         | 3/100 [02:53<1:31:58, 56.89s/it]"
          ]
        },
        {
          "name": "stdout",
          "output_type": "stream",
          "text": [
            "\n",
            "Evaluating disease 4/100: Cholangitis\n",
            "  Success: 1 known drugs, 10 overall recs, 5 similar recs\n",
            "  Overall: P=0.000, R=0.000, F1=0.000\n",
            "  Similar: P=0.200, R=1.000, F1=0.333\n",
            "  Combined: P=0.067, R=1.000, F1=0.125\n"
          ]
        },
        {
          "name": "stderr",
          "output_type": "stream",
          "text": [
            "Evaluating diseases:   4%|▍         | 4/100 [03:47<1:29:22, 55.86s/it]"
          ]
        },
        {
          "name": "stdout",
          "output_type": "stream",
          "text": [
            "\n",
            "Evaluating disease 5/100: Immunodeficiency\n",
            "  Success: 3 known drugs, 10 overall recs, 5 similar recs\n",
            "  Overall: P=0.000, R=0.000, F1=0.000\n",
            "  Similar: P=0.600, R=1.000, F1=0.750\n",
            "  Combined: P=0.200, R=1.000, F1=0.333\n"
          ]
        },
        {
          "name": "stderr",
          "output_type": "stream",
          "text": [
            "Evaluating diseases:   5%|▌         | 5/100 [04:42<1:28:00, 55.58s/it]"
          ]
        },
        {
          "name": "stdout",
          "output_type": "stream",
          "text": [
            "\n",
            "Evaluating disease 6/100: refractive error\n"
          ]
        },
        {
          "name": "stderr",
          "output_type": "stream",
          "text": [
            "c:\\Users\\b0220\\Documents\\ReDrugAI\\score.py:300: FutureWarning: Downcasting object dtype arrays on .fillna, .ffill, .bfill is deprecated and will change in a future version. Call result.infer_objects(copy=False) instead. To opt-in to the future behavior, set `pd.set_option('future.no_silent_downcasting', True)`\n",
            "  \n"
          ]
        },
        {
          "name": "stdout",
          "output_type": "stream",
          "text": [
            "  Success: 1 known drugs, 10 overall recs, 0 similar recs\n",
            "  Overall: P=0.100, R=1.000, F1=0.182\n",
            "  Similar: P=0.000, R=0.000, F1=0.000\n",
            "  Combined: P=0.100, R=1.000, F1=0.182\n"
          ]
        },
        {
          "name": "stderr",
          "output_type": "stream",
          "text": [
            "Evaluating diseases:   6%|▌         | 6/100 [05:33<1:24:23, 53.87s/it]"
          ]
        },
        {
          "name": "stdout",
          "output_type": "stream",
          "text": [
            "\n",
            "Evaluating disease 7/100: berylliosis\n"
          ]
        },
        {
          "name": "stderr",
          "output_type": "stream",
          "text": [
            "c:\\Users\\b0220\\Documents\\ReDrugAI\\score.py:300: FutureWarning: Downcasting object dtype arrays on .fillna, .ffill, .bfill is deprecated and will change in a future version. Call result.infer_objects(copy=False) instead. To opt-in to the future behavior, set `pd.set_option('future.no_silent_downcasting', True)`\n",
            "  \n"
          ]
        },
        {
          "name": "stdout",
          "output_type": "stream",
          "text": [
            "  Success: 3 known drugs, 10 overall recs, 0 similar recs\n",
            "  Overall: P=0.000, R=0.000, F1=0.000\n",
            "  Similar: P=0.000, R=0.000, F1=0.000\n",
            "  Combined: P=0.000, R=0.000, F1=0.000\n"
          ]
        },
        {
          "name": "stderr",
          "output_type": "stream",
          "text": [
            "Evaluating diseases:   7%|▋         | 7/100 [06:23<1:21:26, 52.54s/it]"
          ]
        },
        {
          "name": "stdout",
          "output_type": "stream",
          "text": [
            "\n",
            "Evaluating disease 8/100: X-Linked Combined Immunodeficiency Diseases\n",
            "  Success: 1 known drugs, 10 overall recs, 1 similar recs\n",
            "  Overall: P=0.000, R=0.000, F1=0.000\n",
            "  Similar: P=1.000, R=1.000, F1=1.000\n",
            "  Combined: P=0.091, R=1.000, F1=0.167\n"
          ]
        },
        {
          "name": "stderr",
          "output_type": "stream",
          "text": [
            "Evaluating diseases:   8%|▊         | 8/100 [07:17<1:21:28, 53.14s/it]"
          ]
        },
        {
          "name": "stdout",
          "output_type": "stream",
          "text": [
            "\n",
            "Evaluating disease 9/100: contracture\n",
            "  Success: 2 known drugs, 10 overall recs, 1 similar recs\n",
            "  Overall: P=0.200, R=1.000, F1=0.333\n",
            "  Similar: P=0.000, R=0.000, F1=0.000\n",
            "  Combined: P=0.182, R=1.000, F1=0.308\n"
          ]
        },
        {
          "name": "stderr",
          "output_type": "stream",
          "text": [
            "Evaluating diseases:   9%|▉         | 9/100 [08:12<1:21:37, 53.82s/it]"
          ]
        },
        {
          "name": "stdout",
          "output_type": "stream",
          "text": [
            "\n",
            "Evaluating disease 10/100: chronic prostatitis\n",
            "  Success: 1 known drugs, 10 overall recs, 5 similar recs\n",
            "  Overall: P=0.100, R=1.000, F1=0.182\n",
            "  Similar: P=0.000, R=0.000, F1=0.000\n",
            "  Combined: P=0.067, R=1.000, F1=0.125\n"
          ]
        },
        {
          "name": "stderr",
          "output_type": "stream",
          "text": [
            "Evaluating diseases:  10%|█         | 10/100 [09:10<1:22:20, 54.89s/it]"
          ]
        },
        {
          "name": "stdout",
          "output_type": "stream",
          "text": [
            "\n",
            "Evaluating disease 11/100: clostridium difficile infection\n"
          ]
        },
        {
          "name": "stderr",
          "output_type": "stream",
          "text": [
            "c:\\Users\\b0220\\Documents\\ReDrugAI\\score.py:300: FutureWarning: Downcasting object dtype arrays on .fillna, .ffill, .bfill is deprecated and will change in a future version. Call result.infer_objects(copy=False) instead. To opt-in to the future behavior, set `pd.set_option('future.no_silent_downcasting', True)`\n",
            "  \n"
          ]
        },
        {
          "name": "stdout",
          "output_type": "stream",
          "text": [
            "  Success: 2 known drugs, 10 overall recs, 0 similar recs\n",
            "  Overall: P=0.000, R=0.000, F1=0.000\n",
            "  Similar: P=0.000, R=0.000, F1=0.000\n",
            "  Combined: P=0.000, R=0.000, F1=0.000\n"
          ]
        },
        {
          "name": "stderr",
          "output_type": "stream",
          "text": [
            "Evaluating diseases:  11%|█         | 11/100 [10:06<1:22:15, 55.46s/it]"
          ]
        },
        {
          "name": "stdout",
          "output_type": "stream",
          "text": [
            "\n",
            "Evaluating disease 12/100: precursor T-cell lymphoblastic leukemia-lymphoma\n",
            "  Success: 6 known drugs, 10 overall recs, 5 similar recs\n",
            "  Overall: P=0.000, R=0.000, F1=0.000\n",
            "  Similar: P=0.200, R=0.167, F1=0.182\n",
            "  Combined: P=0.067, R=0.167, F1=0.095\n"
          ]
        },
        {
          "name": "stderr",
          "output_type": "stream",
          "text": [
            "Evaluating diseases:  12%|█▏        | 12/100 [11:38<1:37:42, 66.62s/it]"
          ]
        },
        {
          "name": "stdout",
          "output_type": "stream",
          "text": [
            "\n",
            "Evaluating disease 13/100: Metrorrhagia\n",
            "  Success: 5 known drugs, 10 overall recs, 5 similar recs\n",
            "  Overall: P=0.200, R=0.400, F1=0.267\n",
            "  Similar: P=0.400, R=0.400, F1=0.400\n",
            "  Combined: P=0.267, R=0.800, F1=0.400\n"
          ]
        },
        {
          "name": "stderr",
          "output_type": "stream",
          "text": [
            "Evaluating diseases:  13%|█▎        | 13/100 [12:31<1:30:31, 62.44s/it]"
          ]
        },
        {
          "name": "stdout",
          "output_type": "stream",
          "text": [
            "\n",
            "Evaluating disease 14/100: Epiphora\n"
          ]
        },
        {
          "name": "stderr",
          "output_type": "stream",
          "text": [
            "c:\\Users\\b0220\\Documents\\ReDrugAI\\score.py:300: FutureWarning: Downcasting object dtype arrays on .fillna, .ffill, .bfill is deprecated and will change in a future version. Call result.infer_objects(copy=False) instead. To opt-in to the future behavior, set `pd.set_option('future.no_silent_downcasting', True)`\n",
            "  \n"
          ]
        },
        {
          "name": "stdout",
          "output_type": "stream",
          "text": [
            "  Success: 5 known drugs, 10 overall recs, 0 similar recs\n",
            "  Overall: P=0.100, R=0.200, F1=0.133\n",
            "  Similar: P=0.000, R=0.000, F1=0.000\n",
            "  Combined: P=0.100, R=0.200, F1=0.133\n"
          ]
        },
        {
          "name": "stderr",
          "output_type": "stream",
          "text": [
            "Evaluating diseases:  14%|█▍        | 14/100 [13:28<1:27:07, 60.78s/it]"
          ]
        },
        {
          "name": "stdout",
          "output_type": "stream",
          "text": [
            "\n",
            "Evaluating disease 15/100: advanced heart failure\n"
          ]
        },
        {
          "name": "stderr",
          "output_type": "stream",
          "text": [
            "c:\\Users\\b0220\\Documents\\ReDrugAI\\score.py:300: FutureWarning: Downcasting object dtype arrays on .fillna, .ffill, .bfill is deprecated and will change in a future version. Call result.infer_objects(copy=False) instead. To opt-in to the future behavior, set `pd.set_option('future.no_silent_downcasting', True)`\n",
            "  \n"
          ]
        },
        {
          "name": "stdout",
          "output_type": "stream",
          "text": [
            "  Success: 1 known drugs, 10 overall recs, 0 similar recs\n",
            "  Overall: P=0.000, R=0.000, F1=0.000\n",
            "  Similar: P=0.000, R=0.000, F1=0.000\n",
            "  Combined: P=0.000, R=0.000, F1=0.000\n"
          ]
        },
        {
          "name": "stderr",
          "output_type": "stream",
          "text": [
            "Evaluating diseases:  15%|█▌        | 15/100 [14:21<1:22:52, 58.50s/it]"
          ]
        },
        {
          "name": "stdout",
          "output_type": "stream",
          "text": [
            "\n",
            "Evaluating disease 16/100: open-angle glaucoma\n"
          ]
        },
        {
          "name": "stderr",
          "output_type": "stream",
          "text": [
            "c:\\Users\\b0220\\Documents\\ReDrugAI\\score.py:300: FutureWarning: Downcasting object dtype arrays on .fillna, .ffill, .bfill is deprecated and will change in a future version. Call result.infer_objects(copy=False) instead. To opt-in to the future behavior, set `pd.set_option('future.no_silent_downcasting', True)`\n",
            "  \n"
          ]
        },
        {
          "name": "stdout",
          "output_type": "stream",
          "text": [
            "  Success: 27 known drugs, 10 overall recs, 0 similar recs\n",
            "  Overall: P=0.100, R=0.037, F1=0.054\n",
            "  Similar: P=0.000, R=0.000, F1=0.000\n",
            "  Combined: P=0.100, R=0.037, F1=0.054\n"
          ]
        },
        {
          "name": "stderr",
          "output_type": "stream",
          "text": [
            "Evaluating diseases:  16%|█▌        | 16/100 [15:23<1:23:19, 59.52s/it]"
          ]
        },
        {
          "name": "stdout",
          "output_type": "stream",
          "text": [
            "\n",
            "Evaluating disease 17/100: myelodysplastic syndrome\n",
            "  Success: 190 known drugs, 10 overall recs, 5 similar recs\n",
            "  Overall: P=0.200, R=0.011, F1=0.020\n",
            "  Similar: P=0.600, R=0.016, F1=0.031\n",
            "  Combined: P=0.333, R=0.026, F1=0.049\n"
          ]
        },
        {
          "name": "stderr",
          "output_type": "stream",
          "text": [
            "Evaluating diseases:  17%|█▋        | 17/100 [16:43<1:30:38, 65.52s/it]"
          ]
        },
        {
          "name": "stdout",
          "output_type": "stream",
          "text": [
            "\n",
            "Evaluating disease 18/100: acute stress reaction\n"
          ]
        },
        {
          "name": "stderr",
          "output_type": "stream",
          "text": [
            "c:\\Users\\b0220\\Documents\\ReDrugAI\\score.py:300: FutureWarning: Downcasting object dtype arrays on .fillna, .ffill, .bfill is deprecated and will change in a future version. Call result.infer_objects(copy=False) instead. To opt-in to the future behavior, set `pd.set_option('future.no_silent_downcasting', True)`\n",
            "  \n"
          ]
        },
        {
          "name": "stdout",
          "output_type": "stream",
          "text": [
            "  Success: 2 known drugs, 10 overall recs, 0 similar recs\n",
            "  Overall: P=0.000, R=0.000, F1=0.000\n",
            "  Similar: P=0.000, R=0.000, F1=0.000\n",
            "  Combined: P=0.000, R=0.000, F1=0.000\n"
          ]
        },
        {
          "name": "stderr",
          "output_type": "stream",
          "text": [
            "Evaluating diseases:  18%|█▊        | 18/100 [17:37<1:25:05, 62.26s/it]"
          ]
        },
        {
          "name": "stdout",
          "output_type": "stream",
          "text": [
            "\n",
            "Evaluating disease 19/100: HIV wasting syndrome\n",
            "  Success: 5 known drugs, 10 overall recs, 5 similar recs\n",
            "  Overall: P=0.200, R=0.400, F1=0.267\n",
            "  Similar: P=0.000, R=0.000, F1=0.000\n",
            "  Combined: P=0.133, R=0.400, F1=0.200\n"
          ]
        },
        {
          "name": "stderr",
          "output_type": "stream",
          "text": [
            "Evaluating diseases:  19%|█▉        | 19/100 [18:30<1:20:04, 59.31s/it]"
          ]
        },
        {
          "name": "stdout",
          "output_type": "stream",
          "text": [
            "\n",
            "Evaluating disease 20/100: ear infection\n",
            "  Success: 1 known drugs, 10 overall recs, 5 similar recs\n",
            "  Overall: P=0.000, R=0.000, F1=0.000\n",
            "  Similar: P=0.000, R=0.000, F1=0.000\n",
            "  Combined: P=0.000, R=0.000, F1=0.000\n"
          ]
        },
        {
          "name": "stderr",
          "output_type": "stream",
          "text": [
            "Evaluating diseases:  20%|██        | 20/100 [19:22<1:16:22, 57.28s/it]"
          ]
        },
        {
          "name": "stdout",
          "output_type": "stream",
          "text": [
            "\n",
            "Evaluating disease 21/100: hemorrhage\n",
            "  Success: 77 known drugs, 10 overall recs, 5 similar recs\n",
            "  Overall: P=0.000, R=0.000, F1=0.000\n",
            "  Similar: P=0.600, R=0.039, F1=0.073\n",
            "  Combined: P=0.200, R=0.039, F1=0.065\n"
          ]
        },
        {
          "name": "stderr",
          "output_type": "stream",
          "text": [
            "Evaluating diseases:  21%|██        | 21/100 [20:28<1:18:30, 59.63s/it]"
          ]
        },
        {
          "name": "stdout",
          "output_type": "stream",
          "text": [
            "\n",
            "Evaluating disease 22/100: acute erythroleukemia\n",
            "  Success: 14 known drugs, 10 overall recs, 5 similar recs\n",
            "  Overall: P=0.000, R=0.000, F1=0.000\n",
            "  Similar: P=0.400, R=0.143, F1=0.211\n",
            "  Combined: P=0.133, R=0.143, F1=0.138\n"
          ]
        },
        {
          "name": "stderr",
          "output_type": "stream",
          "text": [
            "Evaluating diseases:  22%|██▏       | 22/100 [22:51<1:50:01, 84.63s/it]"
          ]
        },
        {
          "name": "stdout",
          "output_type": "stream",
          "text": [
            "\n",
            "Evaluating disease 23/100: Dysmenorrhea\n"
          ]
        },
        {
          "name": "stderr",
          "output_type": "stream",
          "text": [
            "c:\\Users\\b0220\\Documents\\ReDrugAI\\score.py:300: FutureWarning: Downcasting object dtype arrays on .fillna, .ffill, .bfill is deprecated and will change in a future version. Call result.infer_objects(copy=False) instead. To opt-in to the future behavior, set `pd.set_option('future.no_silent_downcasting', True)`\n",
            "  \n"
          ]
        },
        {
          "name": "stdout",
          "output_type": "stream",
          "text": [
            "  Success: 29 known drugs, 10 overall recs, 0 similar recs\n",
            "  Overall: P=0.000, R=0.000, F1=0.000\n",
            "  Similar: P=0.000, R=0.000, F1=0.000\n",
            "  Combined: P=0.000, R=0.000, F1=0.000\n"
          ]
        },
        {
          "name": "stderr",
          "output_type": "stream",
          "text": [
            "Evaluating diseases:  23%|██▎       | 23/100 [23:43<1:36:22, 75.10s/it]"
          ]
        },
        {
          "name": "stdout",
          "output_type": "stream",
          "text": [
            "\n",
            "Evaluating disease 24/100: familial lipoprotein lipase deficiency\n",
            "  Success: 5 known drugs, 10 overall recs, 5 similar recs\n",
            "  Overall: P=0.100, R=0.200, F1=0.133\n",
            "  Similar: P=0.000, R=0.000, F1=0.000\n",
            "  Combined: P=0.067, R=0.200, F1=0.100\n"
          ]
        },
        {
          "name": "stderr",
          "output_type": "stream",
          "text": [
            "Evaluating diseases:  24%|██▍       | 24/100 [24:38<1:27:27, 69.04s/it]"
          ]
        },
        {
          "name": "stdout",
          "output_type": "stream",
          "text": [
            "\n",
            "Evaluating disease 25/100: Niemann-Pick disease\n",
            "  Success: 1 known drugs, 10 overall recs, 4 similar recs\n",
            "  Overall: P=0.100, R=1.000, F1=0.182\n",
            "  Similar: P=0.000, R=0.000, F1=0.000\n",
            "  Combined: P=0.071, R=1.000, F1=0.133\n"
          ]
        },
        {
          "name": "stderr",
          "output_type": "stream",
          "text": [
            "Evaluating diseases:  25%|██▌       | 25/100 [25:35<1:21:46, 65.41s/it]"
          ]
        },
        {
          "name": "stdout",
          "output_type": "stream",
          "text": [
            "\n",
            "Evaluating disease 26/100: otitis media with effusion\n",
            "  Success: 4 known drugs, 10 overall recs, 5 similar recs\n",
            "  Overall: P=0.100, R=0.250, F1=0.143\n",
            "  Similar: P=0.000, R=0.000, F1=0.000\n",
            "  Combined: P=0.067, R=0.250, F1=0.105\n"
          ]
        },
        {
          "name": "stderr",
          "output_type": "stream",
          "text": [
            "Evaluating diseases:  26%|██▌       | 26/100 [26:31<1:17:16, 62.65s/it]"
          ]
        },
        {
          "name": "stdout",
          "output_type": "stream",
          "text": [
            "\n",
            "Evaluating disease 27/100: generalized lipodystrophy\n",
            "  Success: 1 known drugs, 10 overall recs, 5 similar recs\n",
            "  Overall: P=0.100, R=1.000, F1=0.182\n",
            "  Similar: P=0.000, R=0.000, F1=0.000\n",
            "  Combined: P=0.067, R=1.000, F1=0.125\n"
          ]
        },
        {
          "name": "stderr",
          "output_type": "stream",
          "text": [
            "Evaluating diseases:  27%|██▋       | 27/100 [27:22<1:11:53, 59.09s/it]"
          ]
        },
        {
          "name": "stdout",
          "output_type": "stream",
          "text": [
            "\n",
            "Evaluating disease 28/100: Premature rupture of membranes\n",
            "  Success: 1 known drugs, 10 overall recs, 3 similar recs\n",
            "  Overall: P=0.100, R=1.000, F1=0.182\n",
            "  Similar: P=0.000, R=0.000, F1=0.000\n",
            "  Combined: P=0.077, R=1.000, F1=0.143\n"
          ]
        },
        {
          "name": "stderr",
          "output_type": "stream",
          "text": [
            "Evaluating diseases:  28%|██▊       | 28/100 [28:12<1:07:37, 56.36s/it]"
          ]
        },
        {
          "name": "stdout",
          "output_type": "stream",
          "text": [
            "\n",
            "Evaluating disease 29/100: hereditary angioedema\n"
          ]
        },
        {
          "name": "stderr",
          "output_type": "stream",
          "text": [
            "c:\\Users\\b0220\\Documents\\ReDrugAI\\score.py:300: FutureWarning: Downcasting object dtype arrays on .fillna, .ffill, .bfill is deprecated and will change in a future version. Call result.infer_objects(copy=False) instead. To opt-in to the future behavior, set `pd.set_option('future.no_silent_downcasting', True)`\n",
            "  \n"
          ]
        },
        {
          "name": "stdout",
          "output_type": "stream",
          "text": [
            "  Success: 13 known drugs, 10 overall recs, 0 similar recs\n",
            "  Overall: P=0.200, R=0.154, F1=0.174\n",
            "  Similar: P=0.000, R=0.000, F1=0.000\n",
            "  Combined: P=0.200, R=0.154, F1=0.174\n"
          ]
        },
        {
          "name": "stderr",
          "output_type": "stream",
          "text": [
            "Evaluating diseases:  29%|██▉       | 29/100 [29:08<1:06:25, 56.13s/it]"
          ]
        },
        {
          "name": "stdout",
          "output_type": "stream",
          "text": [
            "\n",
            "Evaluating disease 30/100: carcinoid heart disease\n"
          ]
        },
        {
          "name": "stderr",
          "output_type": "stream",
          "text": [
            "c:\\Users\\b0220\\Documents\\ReDrugAI\\score.py:300: FutureWarning: Downcasting object dtype arrays on .fillna, .ffill, .bfill is deprecated and will change in a future version. Call result.infer_objects(copy=False) instead. To opt-in to the future behavior, set `pd.set_option('future.no_silent_downcasting', True)`\n",
            "  \n"
          ]
        },
        {
          "name": "stdout",
          "output_type": "stream",
          "text": [
            "  Success: 2 known drugs, 10 overall recs, 0 similar recs\n",
            "  Overall: P=0.200, R=1.000, F1=0.333\n",
            "  Similar: P=0.000, R=0.000, F1=0.000\n",
            "  Combined: P=0.200, R=1.000, F1=0.333\n"
          ]
        },
        {
          "name": "stderr",
          "output_type": "stream",
          "text": [
            "Evaluating diseases:  30%|███       | 30/100 [29:59<1:03:53, 54.76s/it]"
          ]
        },
        {
          "name": "stdout",
          "output_type": "stream",
          "text": [
            "\n",
            "Evaluating disease 31/100: ovarian leiomyosarcoma\n",
            "  Success: 1 known drugs, 10 overall recs, 5 similar recs\n",
            "  Overall: P=0.000, R=0.000, F1=0.000\n",
            "  Similar: P=0.200, R=1.000, F1=0.333\n",
            "  Combined: P=0.067, R=1.000, F1=0.125\n"
          ]
        },
        {
          "name": "stderr",
          "output_type": "stream",
          "text": [
            "Evaluating diseases:  31%|███       | 31/100 [31:26<1:14:01, 64.37s/it]"
          ]
        },
        {
          "name": "stdout",
          "output_type": "stream",
          "text": [
            "\n",
            "Evaluating disease 32/100: skin neoplasm\n",
            "  Success: 11 known drugs, 10 overall recs, 5 similar recs\n",
            "  Overall: P=0.000, R=0.000, F1=0.000\n",
            "  Similar: P=0.200, R=0.091, F1=0.125\n",
            "  Combined: P=0.067, R=0.091, F1=0.077\n"
          ]
        },
        {
          "name": "stderr",
          "output_type": "stream",
          "text": [
            "Evaluating diseases:  32%|███▏      | 32/100 [32:20<1:09:30, 61.34s/it]"
          ]
        },
        {
          "name": "stdout",
          "output_type": "stream",
          "text": [
            "\n",
            "Evaluating disease 33/100: reactive arthritis\n"
          ]
        },
        {
          "name": "stderr",
          "output_type": "stream",
          "text": [
            "c:\\Users\\b0220\\Documents\\ReDrugAI\\score.py:300: FutureWarning: Downcasting object dtype arrays on .fillna, .ffill, .bfill is deprecated and will change in a future version. Call result.infer_objects(copy=False) instead. To opt-in to the future behavior, set `pd.set_option('future.no_silent_downcasting', True)`\n",
            "  \n"
          ]
        },
        {
          "name": "stdout",
          "output_type": "stream",
          "text": [
            "  Success: 4 known drugs, 10 overall recs, 0 similar recs\n",
            "  Overall: P=0.200, R=0.500, F1=0.286\n",
            "  Similar: P=0.000, R=0.000, F1=0.000\n",
            "  Combined: P=0.200, R=0.500, F1=0.286\n"
          ]
        },
        {
          "name": "stderr",
          "output_type": "stream",
          "text": [
            "Evaluating diseases:  33%|███▎      | 33/100 [33:10<1:04:31, 57.79s/it]"
          ]
        },
        {
          "name": "stdout",
          "output_type": "stream",
          "text": [
            "\n",
            "Evaluating disease 34/100: calcinosis\n",
            "  Success: 1 known drugs, 10 overall recs, 2 similar recs\n",
            "  Overall: P=0.100, R=1.000, F1=0.182\n",
            "  Similar: P=0.000, R=0.000, F1=0.000\n",
            "  Combined: P=0.083, R=1.000, F1=0.154\n"
          ]
        },
        {
          "name": "stderr",
          "output_type": "stream",
          "text": [
            "Evaluating diseases:  34%|███▍      | 34/100 [34:00<1:01:09, 55.60s/it]"
          ]
        },
        {
          "name": "stdout",
          "output_type": "stream",
          "text": [
            "\n",
            "Evaluating disease 35/100: glaucoma\n",
            "  Success: 63 known drugs, 10 overall recs, 5 similar recs\n",
            "  Overall: P=0.300, R=0.048, F1=0.082\n",
            "  Similar: P=0.800, R=0.063, F1=0.118\n",
            "  Combined: P=0.467, R=0.111, F1=0.179\n"
          ]
        },
        {
          "name": "stderr",
          "output_type": "stream",
          "text": [
            "Evaluating diseases:  35%|███▌      | 35/100 [34:54<59:29, 54.92s/it]  "
          ]
        },
        {
          "name": "stdout",
          "output_type": "stream",
          "text": [
            "\n",
            "Evaluating disease 36/100: pharyngeal squamous cell carcinoma\n",
            "  Success: 1 known drugs, 10 overall recs, 5 similar recs\n",
            "  Overall: P=0.000, R=0.000, F1=0.000\n",
            "  Similar: P=0.200, R=1.000, F1=0.333\n",
            "  Combined: P=0.067, R=1.000, F1=0.125\n"
          ]
        },
        {
          "name": "stderr",
          "output_type": "stream",
          "text": [
            "Evaluating diseases:  36%|███▌      | 36/100 [36:22<1:09:22, 65.04s/it]"
          ]
        },
        {
          "name": "stdout",
          "output_type": "stream",
          "text": [
            "\n",
            "Evaluating disease 37/100: ulcer disease\n",
            "  Success: 13 known drugs, 10 overall recs, 5 similar recs\n",
            "  Overall: P=0.000, R=0.000, F1=0.000\n",
            "  Similar: P=0.000, R=0.000, F1=0.000\n",
            "  Combined: P=0.000, R=0.000, F1=0.000\n"
          ]
        },
        {
          "name": "stderr",
          "output_type": "stream",
          "text": [
            "Evaluating diseases:  37%|███▋      | 37/100 [37:14<1:04:03, 61.01s/it]"
          ]
        },
        {
          "name": "stdout",
          "output_type": "stream",
          "text": [
            "\n",
            "Evaluating disease 38/100: acquired hemophilia\n",
            "  Success: 3 known drugs, 10 overall recs, 5 similar recs\n",
            "  Overall: P=0.000, R=0.000, F1=0.000\n",
            "  Similar: P=0.400, R=0.667, F1=0.500\n",
            "  Combined: P=0.133, R=0.667, F1=0.222\n"
          ]
        },
        {
          "name": "stderr",
          "output_type": "stream",
          "text": [
            "Evaluating diseases:  38%|███▊      | 38/100 [38:08<1:00:42, 58.76s/it]"
          ]
        },
        {
          "name": "stdout",
          "output_type": "stream",
          "text": [
            "\n",
            "Evaluating disease 39/100: cocaine use disorder\n",
            "  Success: 23 known drugs, 10 overall recs, 5 similar recs\n",
            "  Overall: P=0.100, R=0.043, F1=0.061\n",
            "  Similar: P=0.000, R=0.000, F1=0.000\n",
            "  Combined: P=0.067, R=0.043, F1=0.053\n"
          ]
        },
        {
          "name": "stderr",
          "output_type": "stream",
          "text": [
            "Evaluating diseases:  39%|███▉      | 39/100 [39:07<59:55, 58.94s/it]  "
          ]
        },
        {
          "name": "stdout",
          "output_type": "stream",
          "text": [
            "\n",
            "Evaluating disease 40/100: carcinoma of liver and intrahepatic biliary tract\n",
            "  Success: 12 known drugs, 10 overall recs, 5 similar recs\n",
            "  Overall: P=0.000, R=0.000, F1=0.000\n",
            "  Similar: P=0.400, R=0.167, F1=0.235\n",
            "  Combined: P=0.133, R=0.167, F1=0.148\n"
          ]
        },
        {
          "name": "stderr",
          "output_type": "stream",
          "text": [
            "Evaluating diseases:  40%|████      | 40/100 [40:49<1:12:01, 72.03s/it]"
          ]
        },
        {
          "name": "stdout",
          "output_type": "stream",
          "text": [
            "\n",
            "Evaluating disease 41/100: endocarditis\n",
            "  Success: 1 known drugs, 10 overall recs, 1 similar recs\n",
            "  Overall: P=0.000, R=0.000, F1=0.000\n",
            "  Similar: P=1.000, R=1.000, F1=1.000\n",
            "  Combined: P=0.091, R=1.000, F1=0.167\n"
          ]
        },
        {
          "name": "stderr",
          "output_type": "stream",
          "text": [
            "Evaluating diseases:  41%|████      | 41/100 [41:41<1:04:45, 65.85s/it]"
          ]
        },
        {
          "name": "stdout",
          "output_type": "stream",
          "text": [
            "\n",
            "Evaluating disease 42/100: refractory hairy cell leukemia\n",
            "  Success: 5 known drugs, 10 overall recs, 5 similar recs\n",
            "  Overall: P=0.100, R=0.200, F1=0.133\n",
            "  Similar: P=0.000, R=0.000, F1=0.000\n",
            "  Combined: P=0.067, R=0.200, F1=0.100\n"
          ]
        },
        {
          "name": "stderr",
          "output_type": "stream",
          "text": [
            "Evaluating diseases:  42%|████▏     | 42/100 [42:35<1:00:12, 62.28s/it]"
          ]
        },
        {
          "name": "stdout",
          "output_type": "stream",
          "text": [
            "\n",
            "Evaluating disease 43/100: neoplasm of mature T-cells or NK-cells\n",
            "  Success: 8 known drugs, 10 overall recs, 5 similar recs\n",
            "  Overall: P=0.000, R=0.000, F1=0.000\n",
            "  Similar: P=0.600, R=0.375, F1=0.462\n",
            "  Combined: P=0.200, R=0.375, F1=0.261\n"
          ]
        },
        {
          "name": "stderr",
          "output_type": "stream",
          "text": [
            "Evaluating diseases:  43%|████▎     | 43/100 [43:26<55:53, 58.83s/it]  "
          ]
        },
        {
          "name": "stdout",
          "output_type": "stream",
          "text": [
            "\n",
            "Evaluating disease 44/100: chronic fatigue syndrome\n"
          ]
        },
        {
          "name": "stderr",
          "output_type": "stream",
          "text": [
            "c:\\Users\\b0220\\Documents\\ReDrugAI\\score.py:300: FutureWarning: Downcasting object dtype arrays on .fillna, .ffill, .bfill is deprecated and will change in a future version. Call result.infer_objects(copy=False) instead. To opt-in to the future behavior, set `pd.set_option('future.no_silent_downcasting', True)`\n",
            "  \n"
          ]
        },
        {
          "name": "stdout",
          "output_type": "stream",
          "text": [
            "  Success: 4 known drugs, 10 overall recs, 0 similar recs\n",
            "  Overall: P=0.100, R=0.250, F1=0.143\n",
            "  Similar: P=0.000, R=0.000, F1=0.000\n",
            "  Combined: P=0.100, R=0.250, F1=0.143\n"
          ]
        },
        {
          "name": "stderr",
          "output_type": "stream",
          "text": [
            "Evaluating diseases:  44%|████▍     | 44/100 [44:16<52:30, 56.26s/it]"
          ]
        },
        {
          "name": "stdout",
          "output_type": "stream",
          "text": [
            "\n",
            "Evaluating disease 45/100: vitamin D deficiency\n",
            "  Success: 7 known drugs, 10 overall recs, 1 similar recs\n",
            "  Overall: P=0.200, R=0.286, F1=0.235\n",
            "  Similar: P=1.000, R=0.143, F1=0.250\n",
            "  Combined: P=0.273, R=0.429, F1=0.333\n"
          ]
        },
        {
          "name": "stderr",
          "output_type": "stream",
          "text": [
            "Evaluating diseases:  45%|████▌     | 45/100 [45:07<50:03, 54.61s/it]"
          ]
        },
        {
          "name": "stdout",
          "output_type": "stream",
          "text": [
            "\n",
            "Evaluating disease 46/100: Chest pain\n"
          ]
        },
        {
          "name": "stderr",
          "output_type": "stream",
          "text": [
            "c:\\Users\\b0220\\Documents\\ReDrugAI\\score.py:300: FutureWarning: Downcasting object dtype arrays on .fillna, .ffill, .bfill is deprecated and will change in a future version. Call result.infer_objects(copy=False) instead. To opt-in to the future behavior, set `pd.set_option('future.no_silent_downcasting', True)`\n",
            "  \n"
          ]
        },
        {
          "name": "stdout",
          "output_type": "stream",
          "text": [
            "  Success: 2 known drugs, 10 overall recs, 0 similar recs\n",
            "  Overall: P=0.100, R=0.500, F1=0.167\n",
            "  Similar: P=0.000, R=0.000, F1=0.000\n",
            "  Combined: P=0.100, R=0.500, F1=0.167\n"
          ]
        },
        {
          "name": "stderr",
          "output_type": "stream",
          "text": [
            "Evaluating diseases:  46%|████▌     | 46/100 [46:00<48:53, 54.32s/it]"
          ]
        },
        {
          "name": "stdout",
          "output_type": "stream",
          "text": [
            "\n",
            "Evaluating disease 47/100: dedifferentiated chondrosarcoma\n",
            "  Success: 1 known drugs, 10 overall recs, 5 similar recs\n",
            "  Overall: P=0.000, R=0.000, F1=0.000\n",
            "  Similar: P=0.200, R=1.000, F1=0.333\n",
            "  Combined: P=0.067, R=1.000, F1=0.125\n"
          ]
        },
        {
          "name": "stderr",
          "output_type": "stream",
          "text": [
            "Evaluating diseases:  47%|████▋     | 47/100 [46:59<49:12, 55.70s/it]"
          ]
        },
        {
          "name": "stdout",
          "output_type": "stream",
          "text": [
            "\n",
            "Evaluating disease 48/100: pseudohypoaldosteronism\n",
            "  Success: 1 known drugs, 10 overall recs, 5 similar recs\n",
            "  Overall: P=0.000, R=0.000, F1=0.000\n",
            "  Similar: P=0.000, R=0.000, F1=0.000\n",
            "  Combined: P=0.000, R=0.000, F1=0.000\n"
          ]
        },
        {
          "name": "stderr",
          "output_type": "stream",
          "text": [
            "Evaluating diseases:  48%|████▊     | 48/100 [47:55<48:21, 55.80s/it]"
          ]
        },
        {
          "name": "stdout",
          "output_type": "stream",
          "text": [
            "\n",
            "Evaluating disease 49/100: Histiocytosis\n"
          ]
        },
        {
          "name": "stderr",
          "output_type": "stream",
          "text": [
            "c:\\Users\\b0220\\Documents\\ReDrugAI\\score.py:300: FutureWarning: Downcasting object dtype arrays on .fillna, .ffill, .bfill is deprecated and will change in a future version. Call result.infer_objects(copy=False) instead. To opt-in to the future behavior, set `pd.set_option('future.no_silent_downcasting', True)`\n",
            "  \n"
          ]
        },
        {
          "name": "stdout",
          "output_type": "stream",
          "text": [
            "  Success: 7 known drugs, 10 overall recs, 0 similar recs\n",
            "  Overall: P=0.300, R=0.429, F1=0.353\n",
            "  Similar: P=0.000, R=0.000, F1=0.000\n",
            "  Combined: P=0.300, R=0.429, F1=0.353\n"
          ]
        },
        {
          "name": "stderr",
          "output_type": "stream",
          "text": [
            "Evaluating diseases:  49%|████▉     | 49/100 [48:51<47:30, 55.90s/it]"
          ]
        },
        {
          "name": "stdout",
          "output_type": "stream",
          "text": [
            "\n",
            "Evaluating disease 50/100: limb-girdle muscular dystrophy\n",
            "  Success: 2 known drugs, 10 overall recs, 5 similar recs\n",
            "  Overall: P=0.000, R=0.000, F1=0.000\n",
            "  Similar: P=0.200, R=0.500, F1=0.286\n",
            "  Combined: P=0.067, R=0.500, F1=0.118\n"
          ]
        },
        {
          "name": "stderr",
          "output_type": "stream",
          "text": [
            "Evaluating diseases:  50%|█████     | 50/100 [49:53<48:04, 57.68s/it]"
          ]
        },
        {
          "name": "stdout",
          "output_type": "stream",
          "text": [
            "\n",
            "Evaluating disease 51/100: luminal B breast carcinoma\n",
            "  Success: 3 known drugs, 10 overall recs, 5 similar recs\n",
            "  Overall: P=0.200, R=0.667, F1=0.308\n",
            "  Similar: P=0.000, R=0.000, F1=0.000\n",
            "  Combined: P=0.133, R=0.667, F1=0.222\n"
          ]
        },
        {
          "name": "stderr",
          "output_type": "stream",
          "text": [
            "Evaluating diseases:  51%|█████     | 51/100 [50:48<46:26, 56.88s/it]"
          ]
        },
        {
          "name": "stdout",
          "output_type": "stream",
          "text": [
            "\n",
            "Evaluating disease 52/100: vulvar intraepithelial neoplasia\n",
            "  Success: 1 known drugs, 10 overall recs, 5 similar recs\n",
            "  Overall: P=0.100, R=1.000, F1=0.182\n",
            "  Similar: P=0.000, R=0.000, F1=0.000\n",
            "  Combined: P=0.067, R=1.000, F1=0.125\n"
          ]
        },
        {
          "name": "stderr",
          "output_type": "stream",
          "text": [
            "Evaluating diseases:  52%|█████▏    | 52/100 [51:46<45:42, 57.13s/it]"
          ]
        },
        {
          "name": "stdout",
          "output_type": "stream",
          "text": [
            "\n",
            "Evaluating disease 53/100: HER2 Positive Breast Carcinoma\n",
            "  Success: 21 known drugs, 10 overall recs, 5 similar recs\n",
            "  Overall: P=0.000, R=0.000, F1=0.000\n",
            "  Similar: P=0.400, R=0.095, F1=0.154\n",
            "  Combined: P=0.133, R=0.095, F1=0.111\n"
          ]
        },
        {
          "name": "stderr",
          "output_type": "stream",
          "text": [
            "Evaluating diseases:  53%|█████▎    | 53/100 [52:53<47:01, 60.02s/it]"
          ]
        },
        {
          "name": "stdout",
          "output_type": "stream",
          "text": [
            "\n",
            "Evaluating disease 54/100: adult acute respiratory distress syndrome\n",
            "  Success: 15 known drugs, 10 overall recs, 5 similar recs\n",
            "  Overall: P=0.000, R=0.000, F1=0.000\n",
            "  Similar: P=0.600, R=0.200, F1=0.300\n",
            "  Combined: P=0.200, R=0.200, F1=0.200\n"
          ]
        },
        {
          "name": "stderr",
          "output_type": "stream",
          "text": [
            "Evaluating diseases:  54%|█████▍    | 54/100 [53:51<45:34, 59.44s/it]"
          ]
        },
        {
          "name": "stdout",
          "output_type": "stream",
          "text": [
            "\n",
            "Evaluating disease 55/100: severe hemophilia A\n",
            "  Success: 5 known drugs, 10 overall recs, 5 similar recs\n",
            "  Overall: P=0.000, R=0.000, F1=0.000\n",
            "  Similar: P=0.400, R=0.400, F1=0.400\n",
            "  Combined: P=0.133, R=0.400, F1=0.200\n"
          ]
        },
        {
          "name": "stderr",
          "output_type": "stream",
          "text": [
            "Evaluating diseases:  55%|█████▌    | 55/100 [54:50<44:25, 59.24s/it]"
          ]
        },
        {
          "name": "stdout",
          "output_type": "stream",
          "text": [
            "\n",
            "Evaluating disease 56/100: Uveal Melanoma\n",
            "  Success: 43 known drugs, 10 overall recs, 5 similar recs\n",
            "  Overall: P=0.000, R=0.000, F1=0.000\n",
            "  Similar: P=0.000, R=0.000, F1=0.000\n",
            "  Combined: P=0.000, R=0.000, F1=0.000\n"
          ]
        },
        {
          "name": "stderr",
          "output_type": "stream",
          "text": [
            "Evaluating diseases:  56%|█████▌    | 56/100 [56:16<49:27, 67.44s/it]"
          ]
        },
        {
          "name": "stdout",
          "output_type": "stream",
          "text": [
            "\n",
            "Evaluating disease 57/100: placental site trophoblastic tumor\n",
            "  Success: 2 known drugs, 10 overall recs, 5 similar recs\n",
            "  Overall: P=0.000, R=0.000, F1=0.000\n",
            "  Similar: P=0.400, R=1.000, F1=0.571\n",
            "  Combined: P=0.133, R=1.000, F1=0.235\n"
          ]
        },
        {
          "name": "stderr",
          "output_type": "stream",
          "text": [
            "Evaluating diseases:  57%|█████▋    | 57/100 [57:13<46:07, 64.35s/it]"
          ]
        },
        {
          "name": "stdout",
          "output_type": "stream",
          "text": [
            "\n",
            "Evaluating disease 58/100: methylmalonic acidemia\n",
            "  Success: 1 known drugs, 10 overall recs, 3 similar recs\n",
            "  Overall: P=0.000, R=0.000, F1=0.000\n",
            "  Similar: P=0.333, R=1.000, F1=0.500\n",
            "  Combined: P=0.077, R=1.000, F1=0.143\n"
          ]
        },
        {
          "name": "stderr",
          "output_type": "stream",
          "text": [
            "Evaluating diseases:  58%|█████▊    | 58/100 [58:09<43:14, 61.78s/it]"
          ]
        },
        {
          "name": "stdout",
          "output_type": "stream",
          "text": [
            "\n",
            "Evaluating disease 59/100: congenital mitral valve insufficiency\n",
            "  Success: 4 known drugs, 10 overall recs, 5 similar recs\n",
            "  Overall: P=0.200, R=0.500, F1=0.286\n",
            "  Similar: P=0.000, R=0.000, F1=0.000\n",
            "  Combined: P=0.133, R=0.500, F1=0.211\n"
          ]
        },
        {
          "name": "stderr",
          "output_type": "stream",
          "text": [
            "Evaluating diseases:  59%|█████▉    | 59/100 [59:03<40:36, 59.42s/it]"
          ]
        },
        {
          "name": "stdout",
          "output_type": "stream",
          "text": [
            "\n",
            "Evaluating disease 60/100: anaplastic meningioma\n"
          ]
        }
      ],
      "source": [
        "# Run evaluation experiments for all sampled diseases\n",
        "print(\"Running evaluation experiments...\")\n",
        "\n",
        "# Convert random_diseases_df to pandas for iteration\n",
        "diseases_list = random_diseases_df.to_pandas()['disease_name'].tolist()\n",
        "\n",
        "# Store results\n",
        "evaluation_results = []\n",
        "\n",
        "# Run experiments with progress bar\n",
        "for i, disease_name in enumerate(tqdm(diseases_list, desc=\"Evaluating diseases\")):\n",
        "    print(f\"\\nEvaluating disease {i+1}/100: {disease_name}\")\n",
        "    \n",
        "    # Run single disease evaluation\n",
        "    result = run_disease_evaluation(\n",
        "        disease_name=disease_name,\n",
        "        disease_drugs_df=disease_drugs_df,\n",
        "        all_drugs_df=all_drugs_df,\n",
        "        moa_pair_sim_df=moa_pair_sim_df,\n",
        "        disease_embedding_df=None,  # Will be handled inside the function\n",
        "        project_id=project_id,\n",
        "        dataset_id=dataset_id,\n",
        "        embedding_model_name=text_embedding_model_name,\n",
        "        distance_threshold=distance_threshold,\n",
        "        top_overall=10,\n",
        "        top_similar=5,\n",
        "        similar_weight=0.5\n",
        "    )\n",
        "    \n",
        "    evaluation_results.append(result)\n",
        "    \n",
        "    # Print progress summary\n",
        "    if result['success']:\n",
        "        metrics = result['metrics']\n",
        "        print(f\"  Success: {result['known_drugs_count']} known drugs, \"\n",
        "              f\"{result['overall_recommendations_count']} overall recs, \"\n",
        "              f\"{result['similar_recommendations_count']} similar recs\")\n",
        "        if 'overall_precision' in metrics:\n",
        "            print(f\"  Overall: P={metrics['overall_precision']:.3f}, \"\n",
        "                  f\"R={metrics['overall_recall']:.3f}, \"\n",
        "                  f\"F1={metrics['overall_f1_score']:.3f}\")\n",
        "        if 'similar_precision' in metrics:\n",
        "            print(f\"  Similar: P={metrics['similar_precision']:.3f}, \"\n",
        "                  f\"R={metrics['similar_recall']:.3f}, \"\n",
        "                  f\"F1={metrics['similar_f1_score']:.3f}\")\n",
        "        if 'combined_precision' in metrics:\n",
        "            print(f\"  Combined: P={metrics['combined_precision']:.3f}, \"\n",
        "                  f\"R={metrics['combined_recall']:.3f}, \"\n",
        "                  f\"F1={metrics['combined_f1_score']:.3f}\")\n",
        "    else:\n",
        "        print(f\"  Failed: {result['error']}\")\n",
        "    \n",
        "    # Small delay to avoid overwhelming BigQuery\n",
        "    time.sleep(0.5)\n",
        "\n",
        "print(f\"\\nCompleted evaluation of {len(evaluation_results)} diseases\")\n"
      ]
    },
    {
      "cell_type": "code",
      "execution_count": 10,
      "metadata": {},
      "outputs": [
        {
          "name": "stdout",
          "output_type": "stream",
          "text": [
            "=== EVALUATION ANALYSIS ===\n",
            "\n",
            "Analyzing 5 successful evaluations:\n",
            "\n",
            "Performance Metrics Summary:\n",
            "  overall_precision: 0.2200 ± 0.2280\n",
            "  overall_recall: 0.1955 ± 0.2363\n",
            "  overall_f1_score: 0.1148 ± 0.1089\n",
            "  similar_precision: 0.1600 ± 0.3578\n",
            "  similar_recall: 0.0087 ± 0.0194\n",
            "  similar_f1_score: 0.0165 ± 0.0369\n",
            "  combined_precision: 0.2174 ± 0.2385\n",
            "  combined_recall: 0.1998 ± 0.2335\n",
            "  combined_f1_score: 0.1134 ± 0.1075\n",
            "\n",
            "Count Statistics:\n",
            "  Average known drugs per disease: 55.60\n",
            "  Average recommendations per disease: 10.00\n",
            "  Average similar diseases found: 3.20\n",
            "\n",
            "Overlap Analysis:\n",
            "  Diseases with at least 1 overlap: 4/5\n",
            "  Average overlap count: 2.20\n",
            "  Max overlap count: 6\n",
            "\n",
            "Results saved to 'evaluation_results.csv'\n",
            "\n",
            "=== EVALUATION COMPLETE ===\n",
            "\n",
            "Final Summary:\n",
            "Total diseases evaluated: 5\n",
            "Successful evaluations: 5\n",
            "Failed evaluations: 0\n",
            "Average Overall Precision: 0.2200\n",
            "Average Overall Recall: 0.1955\n",
            "Average Overall F1-Score: 0.1148\n",
            "Average Similar Precision: 0.1600\n",
            "Average Similar Recall: 0.0087\n",
            "Average Similar F1-Score: 0.0165\n",
            "Average Combined Precision: 0.2174\n",
            "Average Combined Recall: 0.1998\n",
            "Average Combined F1-Score: 0.1134\n"
          ]
        }
      ],
      "source": [
        "# Analyze evaluation results\n",
        "print(\"=== EVALUATION ANALYSIS ===\")\n",
        "\n",
        "# Filter successful evaluations only\n",
        "successful_results = results_df[results_df['success'] == True]\n",
        "\n",
        "if len(successful_results) > 0:\n",
        "    print(f\"\\nAnalyzing {len(successful_results)} successful evaluations:\")\n",
        "    \n",
        "    # Overall performance metrics\n",
        "    numeric_cols = successful_results.select_dtypes(include=[float, int]).columns\n",
        "    metric_cols = [col for col in numeric_cols if any(keyword in col.lower() \n",
        "                   for keyword in ['precision', 'recall', 'f1_score'])]\n",
        "    \n",
        "    if metric_cols:\n",
        "        print(f\"\\nPerformance Metrics Summary:\")\n",
        "        for col in metric_cols:\n",
        "            if col in successful_results.columns:\n",
        "                mean_val = successful_results[col].mean()\n",
        "                std_val = successful_results[col].std()\n",
        "                print(f\"  {col}: {mean_val:.4f} ± {std_val:.4f}\")\n",
        "    \n",
        "    # Count-based statistics\n",
        "    print(f\"\\nCount Statistics:\")\n",
        "    print(f\"  Average known drugs per disease: {successful_results['known_drugs_count'].mean():.2f}\")\n",
        "    print(f\"  Average recommendations per disease: {successful_results['overall_recommendations_count'].mean():.2f}\")\n",
        "    print(f\"  Average similar diseases found: {successful_results['similar_diseases_count'].mean():.2f}\")\n",
        "    \n",
        "    # Overlap analysis\n",
        "    if 'overall_overlap_count' in successful_results.columns:\n",
        "        overlap_stats = successful_results['overall_overlap_count']\n",
        "        print(f\"\\nOverlap Analysis:\")\n",
        "        print(f\"  Diseases with at least 1 overlap: {(overlap_stats > 0).sum()}/{len(successful_results)}\")\n",
        "        print(f\"  Average overlap count: {overlap_stats.mean():.2f}\")\n",
        "        print(f\"  Max overlap count: {overlap_stats.max()}\")\n",
        "\n",
        "    # Save results to CSV\n",
        "    results_df.to_csv('evaluation_results.csv', index=False)\n",
        "    print(f\"\\nResults saved to 'evaluation_results.csv'\")\n",
        "    \n",
        "else:\n",
        "    print(\"No successful evaluations to analyze.\")\n",
        "\n",
        "print(\"\\n=== EVALUATION COMPLETE ===\")\n",
        "\n",
        "# Display final summary\n",
        "print(f\"\\nFinal Summary:\")\n",
        "print(f\"Total diseases evaluated: {len(results_df)}\")\n",
        "print(f\"Successful evaluations: {results_df['success'].sum()}\")\n",
        "print(f\"Failed evaluations: {(~results_df['success']).sum()}\")\n",
        "\n",
        "if len(successful_results) > 0 and 'overall_precision' in successful_results.columns:\n",
        "    # Overall metrics\n",
        "    avg_precision = successful_results['overall_precision'].mean()\n",
        "    avg_recall = successful_results['overall_recall'].mean()\n",
        "    avg_f1 = successful_results['overall_f1_score'].mean()\n",
        "    print(f\"Average Overall Precision: {avg_precision:.4f}\")\n",
        "    print(f\"Average Overall Recall: {avg_recall:.4f}\")\n",
        "    print(f\"Average Overall F1-Score: {avg_f1:.4f}\")\n",
        "    \n",
        "    # Similar disease metrics\n",
        "    if 'similar_precision' in successful_results.columns:\n",
        "        sim_precision = successful_results['similar_precision'].mean()\n",
        "        sim_recall = successful_results['similar_recall'].mean()\n",
        "        sim_f1 = successful_results['similar_f1_score'].mean()\n",
        "        print(f\"Average Similar Precision: {sim_precision:.4f}\")\n",
        "        print(f\"Average Similar Recall: {sim_recall:.4f}\")\n",
        "        print(f\"Average Similar F1-Score: {sim_f1:.4f}\")\n",
        "    \n",
        "    # Combined metrics  \n",
        "    if 'combined_precision' in successful_results.columns:\n",
        "        comb_precision = successful_results['combined_precision'].mean()\n",
        "        comb_recall = successful_results['combined_recall'].mean()\n",
        "        comb_f1 = successful_results['combined_f1_score'].mean()\n",
        "        print(f\"Average Combined Precision: {comb_precision:.4f}\")\n",
        "        print(f\"Average Combined Recall: {comb_recall:.4f}\")\n",
        "        print(f\"Average Combined F1-Score: {comb_f1:.4f}\")\n"
      ]
    }
  ],
  "metadata": {
    "kernelspec": {
      "display_name": ".venv",
      "language": "python",
      "name": "python3"
    },
    "language_info": {
      "codemirror_mode": {
        "name": "ipython",
        "version": 3
      },
      "file_extension": ".py",
      "mimetype": "text/x-python",
      "name": "python",
      "nbconvert_exporter": "python",
      "pygments_lexer": "ipython3",
      "version": "3.12.7"
    }
  },
  "nbformat": 4,
  "nbformat_minor": 2
}
