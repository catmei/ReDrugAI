{
  "cells": [
    {
      "cell_type": "markdown",
      "metadata": {},
      "source": [
        "# RedrugAI"
      ]
    },
    {
      "cell_type": "markdown",
      "metadata": {},
      "source": [
        "### Intro"
      ]
    },
    {
      "cell_type": "markdown",
      "metadata": {},
      "source": [
        "### Set up\n",
        "#### Biquery \n",
        "1. Create Biquery project and dataset\n",
        "2. Create remote vertex model (for text embeddings)\n",
        "   https://cloud.google.com/bigquery/docs/generate-text-embedding#console_1\n",
        "#### Python\n",
        "1. version >= 3.12.7"
      ]
    },
    {
      "cell_type": "code",
      "execution_count": 15,
      "metadata": {},
      "outputs": [
        {
          "name": "stdout",
          "output_type": "stream",
          "text": [
            "Note: you may need to restart the kernel to use updated packages.\n"
          ]
        },
        {
          "name": "stderr",
          "output_type": "stream",
          "text": [
            "\n",
            "Usage:   \n",
            "  c:\\Users\\b0220\\Documents\\ReDrugAI\\.venv\\Scripts\\python.exe -m pip install [options] <requirement specifier> [package-index-options] ...\n",
            "  c:\\Users\\b0220\\Documents\\ReDrugAI\\.venv\\Scripts\\python.exe -m pip install [options] -r <requirements file> [package-index-options] ...\n",
            "  c:\\Users\\b0220\\Documents\\ReDrugAI\\.venv\\Scripts\\python.exe -m pip install [options] [-e] <vcs project url> ...\n",
            "  c:\\Users\\b0220\\Documents\\ReDrugAI\\.venv\\Scripts\\python.exe -m pip install [options] [-e] <local project path> ...\n",
            "  c:\\Users\\b0220\\Documents\\ReDrugAI\\.venv\\Scripts\\python.exe -m pip install [options] <archive url/path> ...\n",
            "\n",
            "option --progress-bar: invalid choice: 'pretty' (choose from 'auto', 'on', 'off', 'raw')\n"
          ]
        }
      ],
      "source": [
        "%pip install --upgrade bigframes --progress-bar pretty"
      ]
    },
    {
      "cell_type": "code",
      "execution_count": 1,
      "metadata": {},
      "outputs": [],
      "source": [
        "import bigframes.pandas as bpd\n",
        "region = \"US\"\n",
        "project_id = \"redrugai\"\n",
        "dataset_id = \"redrugai_data\"\n",
        "embedding_model_name = \"biolord\"\n",
        "source_project_id = \"bigquery-public-data\"\n",
        "source_dataset_id = \"open_targets_platform\"\n",
        "# Configure BigQuery client  \n",
        "bpd.options.bigquery.project = project_id\n",
        "bpd.options.bigquery.location = region\n"
      ]
    },
    {
      "cell_type": "markdown",
      "metadata": {},
      "source": [
        "## Prepare for the disease embedding table\n",
        "- only need to do once\n",
        "- the purpose is to pre-built the embedding slim table for doing vector search at public dataset"
      ]
    },
    {
      "cell_type": "code",
      "execution_count": 2,
      "metadata": {},
      "outputs": [
        {
          "name": "stdout",
          "output_type": "stream",
          "text": [
            "Disease embeddings table created successfully!\n"
          ]
        }
      ],
      "source": [
        "# Execute SQL to create disease embeddings table\n",
        "source_table_name = \"disease\"\n",
        "embedding_table_name = f\"{source_table_name}_embedding\"\n",
        "\n",
        "# Fixed query with proper content column\n",
        "query_create_embeddings = f\"\"\"\n",
        "CREATE OR REPLACE TABLE `{project_id}.{dataset_id}.{embedding_table_name}` AS\n",
        "WITH source_table AS (\n",
        "  SELECT\n",
        "    id,\n",
        "    name,\n",
        "    synonyms,\n",
        "    CONCAT(\n",
        "      COALESCE(name, ''), ' ',\n",
        "      COALESCE(description, '')\n",
        "    ) AS content\n",
        "  FROM\n",
        "    `{source_project_id}.{source_dataset_id}.{source_table_name}`\n",
        "  LIMIT 50\n",
        ")\n",
        "SELECT\n",
        "  s.id,\n",
        "  s.name,\n",
        "  s.synonyms,\n",
        "  e.ml_generate_embedding_result AS embedding\n",
        "FROM\n",
        "  source_table s\n",
        "JOIN\n",
        "  ML.GENERATE_EMBEDDING(\n",
        "    MODEL `{project_id}.{dataset_id}.{embedding_model_name}`,\n",
        "    (SELECT id, content FROM source_table),\n",
        "    STRUCT(TRUE AS flatten_json_output)\n",
        "  ) e\n",
        "ON s.id = e.id\n",
        "\"\"\"\n",
        "\n",
        "# Execute the query to create the embeddings table\n",
        "bpd.read_gbq(query_create_embeddings)\n",
        "print(\"Disease embeddings table created successfully!\")\n"
      ]
    },
    {
      "cell_type": "markdown",
      "metadata": {},
      "source": [
        "### Build index to optimize search vector for rows > 1M (skip temporarily)"
      ]
    },
    {
      "cell_type": "code",
      "execution_count": null,
      "metadata": {},
      "outputs": [],
      "source": [
        "import bigframes.bigquery as bbq\n",
        "\n",
        "# Create a vector index for efficient searching on the disease embeddings table\n",
        "full_table_id = f\"{project_id}.{dataset_id}.{embedding_table_name}\"\n",
        "\n",
        "bbq.create_vector_index(\n",
        "    table_id=full_table_id,\n",
        "    column_name='embedding',\n",
        ")\n"
      ]
    },
    {
      "cell_type": "markdown",
      "metadata": {},
      "source": [
        "## Vector Search"
      ]
    },
    {
      "cell_type": "markdown",
      "metadata": {},
      "source": [
        "### First layer"
      ]
    },
    {
      "cell_type": "code",
      "execution_count": 21,
      "metadata": {},
      "outputs": [
        {
          "name": "stdout",
          "output_type": "stream",
          "text": [
            "Vector Search Results:\n"
          ]
        },
        {
          "data": {
            "text/html": [
              "Query job 3cae12e8-4f9b-4058-b3d6-a58303610c17 is DONE. 0 Bytes processed. <a target=\"_blank\" href=\"https://console.cloud.google.com/bigquery?project=redrugai&j=bq:US:3cae12e8-4f9b-4058-b3d6-a58303610c17&page=queryresults\">Open Job</a>"
            ],
            "text/plain": [
              "<IPython.core.display.HTML object>"
            ]
          },
          "metadata": {},
          "output_type": "display_data"
        },
        {
          "name": "stdout",
          "output_type": "stream",
          "text": [
            "           id           disease_name              query_text  distance\n",
            "2  GO_0003094  glomerular filtration  chronic kidney disease  0.437125\n",
            "1  GO_0003092  renal water retention  chronic kidney disease  0.390453\n",
            "0  GO_0003014   renal system process  chronic kidney disease  0.372117\n",
            "\n",
            "[3 rows x 4 columns]\n"
          ]
        }
      ],
      "source": [
        "base_table_name = \"disease_embedding\"\n",
        "text_embedding_model_name = \"embedding005\"\n",
        "query_text = \"chronic kidney disease\"\n",
        "\n",
        "vector_search_query = f\"\"\"\n",
        "WITH query_table AS (\n",
        "    SELECT *\n",
        "    FROM ML.GENERATE_EMBEDDING(\n",
        "        MODEL `{project_id}.{dataset_id}.{text_embedding_model_name}`,\n",
        "        (SELECT '{query_text}' AS content)\n",
        "    )\n",
        ")\n",
        "SELECT\n",
        "    base.id,\n",
        "    base.name AS disease_name,\n",
        "    query.content AS query_text,\n",
        "    distance\n",
        "FROM\n",
        "    VECTOR_SEARCH(\n",
        "        TABLE `{project_id}.{dataset_id}.{base_table_name}`,\n",
        "        'embedding',\n",
        "        (SELECT * FROM query_table),\n",
        "        'ml_generate_embedding_result',\n",
        "        top_k => 3,\n",
        "        distance_type => 'COSINE'\n",
        "    )\n",
        "\"\"\"\n",
        "\n",
        "# Execute the search query\n",
        "search_results_df = bpd.read_gbq(vector_search_query)\n",
        "search_results_df = search_results_df.sort_values('distance', ascending=False)\n",
        "\n",
        "# Display the results\n",
        "print(\"Vector Search Results:\")\n",
        "print(search_results_df.head())"
      ]
    },
    {
      "cell_type": "markdown",
      "metadata": {},
      "source": [
        "### Second Layer"
      ]
    },
    {
      "cell_type": "code",
      "execution_count": 9,
      "metadata": {},
      "outputs": [
        {
          "name": "stdout",
          "output_type": "stream",
          "text": [
            "Drugs associated with similar diseases:\n"
          ]
        },
        {
          "data": {
            "text/html": [
              "Query job f3f0c11f-104e-4742-b3a2-fe0663c60e05 is DONE. 0 Bytes processed. <a target=\"_blank\" href=\"https://console.cloud.google.com/bigquery?project=redrugai&j=bq:US:f3f0c11f-104e-4742-b3a2-fe0663c60e05&page=queryresults\">Open Job</a>"
            ],
            "text/plain": [
              "<IPython.core.display.HTML object>"
            ]
          },
          "metadata": {},
          "output_type": "display_data"
        },
        {
          "name": "stdout",
          "output_type": "stream",
          "text": [
            "Empty DataFrame\n",
            "Columns: [disease_id, drug_id, drug_name]\n",
            "Index: []\n",
            "\n",
            "[0 rows x 3 columns]\n"
          ]
        }
      ],
      "source": [
        "# get the drugs from the disease ids\n",
        "# Extract the disease IDs from search results\n",
        "disease_ids = search_results_df['id'].tolist()\n",
        "disease_ids_str = \"', '\".join(disease_ids)\n",
        "\n",
        "# Query to get drugs associated with these diseases\n",
        "drug_query = f\"\"\"\n",
        "SELECT \n",
        "    kd.diseaseId as disease_id,\n",
        "    kd.drugId as drug_id,\n",
        "    dm.name as drug_name\n",
        "FROM \n",
        "    `{source_project_id}.{source_dataset_id}.known_drug` kd\n",
        "JOIN \n",
        "    `{source_project_id}.{source_dataset_id}.drug_molecule` dm\n",
        "ON \n",
        "    kd.drugId = dm.id\n",
        "WHERE \n",
        "    kd.diseaseId IN ('GO_0000050')\n",
        "ORDER BY \n",
        "    kd.diseaseId, dm.name\n",
        "\"\"\"\n",
        "\n",
        "# Execute the query\n",
        "drug_results_df = bpd.read_gbq(drug_query)\n",
        "\n",
        "print(\"Drugs associated with similar diseases:\")\n",
        "print(drug_results_df.head(10))"
      ]
    },
    {
      "cell_type": "markdown",
      "metadata": {},
      "source": [
        "### Thrid Layer"
      ]
    },
    {
      "cell_type": "code",
      "execution_count": 47,
      "metadata": {},
      "outputs": [
        {
          "data": {
            "text/html": [
              "Query job 4b7955e6-689f-41f4-8a07-8ad961be9284 is DONE. 0 Bytes processed. <a target=\"_blank\" href=\"https://console.cloud.google.com/bigquery?project=redrugai&j=bq:US:4b7955e6-689f-41f4-8a07-8ad961be9284&page=queryresults\">Open Job</a>"
            ],
            "text/plain": [
              "<IPython.core.display.HTML object>"
            ]
          },
          "metadata": {},
          "output_type": "display_data"
        },
        {
          "name": "stdout",
          "output_type": "stream",
          "text": [
            "         drug_id                 drug_adverse_event     disease_id  \\\n",
            "0  CHEMBL4297879                     lung infection  MONDO_0005147   \n",
            "1  CHEMBL4297879                             chills  MONDO_0005147   \n",
            "2  CHEMBL4297879                         chest pain  MONDO_0005147   \n",
            "3  CHEMBL4297879                    nasopharyngitis  MONDO_0005147   \n",
            "4  CHEMBL4297879                   chest discomfort  MONDO_0005147   \n",
            "5  CHEMBL4297879                          pneumonia  MONDO_0005147   \n",
            "6  CHEMBL4297879                              cough  MONDO_0005147   \n",
            "7  CHEMBL4297879              product closure issue  MONDO_0005147   \n",
            "8  CHEMBL4297879  upper respiratory tract infection  MONDO_0005147   \n",
            "9  CHEMBL4297879          infusion related reaction  MONDO_0005147   \n",
            "\n",
            "               disease_name  \\\n",
            "0  type 1 diabetes mellitus   \n",
            "1  type 1 diabetes mellitus   \n",
            "2  type 1 diabetes mellitus   \n",
            "3  type 1 diabetes mellitus   \n",
            "4  type 1 diabetes mellitus   \n",
            "5  type 1 diabetes mellitus   \n",
            "6  type 1 diabetes mellitus   \n",
            "7  type 1 diabetes mellitus   \n",
            "8  type 1 diabetes mellitus   \n",
            "9  type 1 diabetes mellitus   \n",
            "\n",
            "                                 disease_description  \\\n",
            "0  A chronic condition characterized by minimal o...   \n",
            "1  A chronic condition characterized by minimal o...   \n",
            "2  A chronic condition characterized by minimal o...   \n",
            "3  A chronic condition characterized by minimal o...   \n",
            "4  A chronic condition characterized by minimal o...   \n",
            "5  A chronic condition characterized by minimal o...   \n",
            "6  A chronic condition characterized by minimal o...   \n",
            "7  A chronic condition characterized by minimal o...   \n",
            "8  A chronic condition characterized by minimal o...   \n",
            "9  A chronic condition characterized by minimal o...   \n",
            "\n",
            "                                              prompt  \\\n",
            "0  Analyze the relationship between the adverse d...   \n",
            "1  Analyze the relationship between the adverse d...   \n",
            "2  Analyze the relationship between the adverse d...   \n",
            "3  Analyze the relationship between the adverse d...   \n",
            "4  Analyze the relationship between the adverse d...   \n",
            "5  Analyze the relationship between the adverse d...   \n",
            "6  Analyze the relationship between the adverse d...   \n",
            "7  Analyze the relationship between the adverse d...   \n",
            "8  Analyze the relationship between the adverse d...   \n",
            "9  Analyze the relationship between the adverse d...   \n",
            "\n",
            "                                           infernece  \n",
            "0  The adverse event \"lung infection\" is **2) Har...  \n",
            "1  The relationship is **harmful**. Chills often ...  \n",
            "2  This relationship is **harmful/contraindicated...  \n",
            "3  The relationship is **harmful**. Nasopharyngit...  \n",
            "4  This adverse event is **Harmful/contraindicate...  \n",
            "5  The adverse drug event \"pneumonia\" is **2) Har...  \n",
            "6  The relationship is **harmful/contraindicated*...  \n",
            "7  This relationship is **2) Harmful/contraindica...  \n",
            "8  This adverse event is **harmful** for a patien...  \n",
            "9  This adverse event is **2) Harmful/contraindic...  \n",
            "\n",
            "[21 rows x 7 columns]\n"
          ]
        }
      ],
      "source": [
        "# Filter out drugs whose side effects conflict with the researched disease\n",
        "\n",
        "research_disease = 'MONDO_0005147'\n",
        "drug_id_list = ['CHEMBL4297879', 'CHEMBL4297879']\n",
        "text_generation_model_name = 'gemini25pro'\n",
        "adverse_drug_table = 'openfda_significant_adverse_drug_reactions'\n",
        "\n",
        "# Prepare drug IDs for query\n",
        "drug_ids_str = \"', '\".join(drug_id_list)\n",
        "\n",
        "# SINGLE INTEGRATED QUERY - Everything in one SQL statement\n",
        "query = f\"\"\"\n",
        "-- 1. Fetch adverse events for specified drug IDs from openfda table\n",
        "WITH adverse_events AS (\n",
        "  SELECT \n",
        "    chembl_id as drug_id,\n",
        "    event as drug_adverse_event,\n",
        "  FROM \n",
        "    `{source_project_id}.{source_dataset_id}.{adverse_drug_table}`\n",
        "  WHERE \n",
        "    chembl_id IN ('{drug_ids_str}')\n",
        "),\n",
        "\n",
        "-- 2. Get description from research disease\n",
        "research_disease_info AS (\n",
        "  SELECT \n",
        "    id as disease_id,\n",
        "    name as disease_name,\n",
        "    description as disease_description\n",
        "  FROM \n",
        "    `{source_project_id}.{source_dataset_id}.disease`\n",
        "  WHERE \n",
        "    id = '{research_disease}'\n",
        "),\n",
        "\n",
        "-- 3. Combine adverse events with disease info for ML analysis\n",
        "analysis_data AS (\n",
        "  SELECT \n",
        "    ae.drug_id,\n",
        "    ae.drug_adverse_event,\n",
        "    rd.disease_id,\n",
        "    rd.disease_name,\n",
        "    rd.disease_description,\n",
        "    CONCAT(\n",
        "      'Analyze the relationship between the adverse drug event \"', ae.drug_adverse_event, \n",
        "      '\" and the disease \"', rd.disease_name, \n",
        "      '\" (', COALESCE(rd.disease_description, 'No description available'), \n",
        "      '). Determine if this adverse event could be: 1) Beneficial for treating the disease, ', \n",
        "      '2) Harmful/contraindicated, or 3) Neutral/unrelated. Provide a concise 2-3 sentence explanation.'\n",
        "    ) as prompt\n",
        "  FROM \n",
        "    adverse_events ae\n",
        "  CROSS JOIN \n",
        "    research_disease_info rd\n",
        ")\n",
        "\n",
        "-- 4. Final result with ML.GENERATE_TEXT inference as new column\n",
        "SELECT\n",
        "  drug_id,\n",
        "  drug_adverse_event,\n",
        "  disease_id, \n",
        "  disease_name,\n",
        "  disease_description,\n",
        "  prompt,\n",
        "  ml_generate_text_llm_result as infernece\n",
        "FROM\n",
        "  ML.GENERATE_TEXT(\n",
        "    MODEL redrugai.redrugai_data.gemini25pro,\n",
        "    (SELECT * FROM analysis_data),\n",
        "    STRUCT(\n",
        "      0.2 AS temperature,\n",
        "      1024 AS max_output_tokens,\n",
        "      TRUE AS flatten_json_output\n",
        "    )\n",
        "  ) \n",
        "\"\"\"\n",
        "\n",
        "results_df = bpd.read_gbq(query)\n",
        "print(results_df)"
      ]
    }
  ],
  "metadata": {
    "kernelspec": {
      "display_name": ".venv",
      "language": "python",
      "name": "python3"
    },
    "language_info": {
      "codemirror_mode": {
        "name": "ipython",
        "version": 3
      },
      "file_extension": ".py",
      "mimetype": "text/x-python",
      "name": "python",
      "nbconvert_exporter": "python",
      "pygments_lexer": "ipython3",
      "version": "3.12.7"
    }
  },
  "nbformat": 4,
  "nbformat_minor": 2
}
